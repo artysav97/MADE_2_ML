{
 "cells": [
  {
   "cell_type": "markdown",
   "metadata": {},
   "source": [
    "# Продвинутое машинное обучение: \n",
    "## Домашнее задание 3\n",
    "Третье домашнее задание посвящено достаточно простой, но, надеюсь, интересной задаче, в которой потребуется творчески применить методы сэмплирования. Как и раньше, в качестве решения ожидается ссылка на jupyter-ноутбук на вашем github (или публичный, или с доступом для snikolenko); ссылку обязательно нужно прислать в виде сданного домашнего задания на портале Академии. Как всегда, любые комментарии, новые идеи и рассуждения на тему категорически приветствуются. \n",
    "В этом небольшом домашнем задании мы попробуем улучшить метод Шерлока Холмса. Как известно, в рассказе The Adventure of the Dancing Men великий сыщик расшифровал загадочные письмена, которые выглядели примерно так:\n",
    "\n",
    "Пользовался он для этого так называемым частотным методом: смотрел, какие буквы чаще встречаются в зашифрованных текстах, и пытался подставить буквы в соответствии с частотной таблицей: E — самая частая и так далее.\n",
    "В этом задании мы будем разрабатывать более современный и продвинутый вариант такого частотного метода. В качестве корпусов текстов для подсчётов частот можете взять что угодно, но для удобства вот вам “Война и мир” по-русски и по-английски:\n",
    "https://www.dropbox.com/s/k23enjvr3fb40o5/corpora.zip "
   ]
  },
  {
   "cell_type": "code",
   "execution_count": 1,
   "metadata": {},
   "outputs": [],
   "source": [
    "import numpy as np\n",
    "import pandas as pd\n",
    "import re\n",
    "import random"
   ]
  },
  {
   "cell_type": "markdown",
   "metadata": {},
   "source": [
    "# Task 1"
   ]
  },
  {
   "cell_type": "markdown",
   "metadata": {},
   "source": [
    "1. Реализуйте базовый частотный метод по Шерлоку Холмсу:\n",
    "    * подсчитайте частоты букв по корпусам (пунктуацию и капитализацию можно просто опустить, а вот пробелы лучше оставить);\n",
    "    * возьмите какие-нибудь тестовые тексты (нужно взять по меньшей мере 2-3 предложения, иначе вряд ли сработает), зашифруйте их посредством случайной перестановки символов;\n",
    "    * расшифруйте их таким частотным методом.\n"
   ]
  },
  {
   "cell_type": "markdown",
   "metadata": {},
   "source": [
    "**Решение**"
   ]
  },
  {
   "cell_type": "markdown",
   "metadata": {},
   "source": [
    "Читаем данные"
   ]
  },
  {
   "cell_type": "code",
   "execution_count": 2,
   "metadata": {},
   "outputs": [],
   "source": [
    "with open('./corpora/WarAndPeace.txt', 'r', encoding=\"utf-8\") as file:\n",
    "    data_ru = file.readlines()"
   ]
  },
  {
   "cell_type": "markdown",
   "metadata": {},
   "source": [
    "Формируем dataframe с частотами букв и пробелов в тексте"
   ]
  },
  {
   "cell_type": "code",
   "execution_count": 3,
   "metadata": {},
   "outputs": [],
   "source": [
    "regex = re.compile('\\s+')\n",
    "data_ru_string = regex.sub(' ', re.sub('[^а-я ]+', '', ''.join(data_ru).lower()))"
   ]
  },
  {
   "cell_type": "code",
   "execution_count": 4,
   "metadata": {},
   "outputs": [],
   "source": [
    "def tokenz(text):\n",
    "    letter_ru = {}\n",
    "    for letter in text.lower():\n",
    "        if letter in letter_ru.keys():\n",
    "            letter_ru[letter] += 1\n",
    "        else:\n",
    "            letter_ru[letter] = 1\n",
    "    return letter_ru"
   ]
  },
  {
   "cell_type": "code",
   "execution_count": 5,
   "metadata": {},
   "outputs": [
    {
     "data": {
      "text/html": [
       "<div>\n",
       "<style scoped>\n",
       "    .dataframe tbody tr th:only-of-type {\n",
       "        vertical-align: middle;\n",
       "    }\n",
       "\n",
       "    .dataframe tbody tr th {\n",
       "        vertical-align: top;\n",
       "    }\n",
       "\n",
       "    .dataframe thead th {\n",
       "        text-align: right;\n",
       "    }\n",
       "</style>\n",
       "<table border=\"1\" class=\"dataframe\">\n",
       "  <thead>\n",
       "    <tr style=\"text-align: right;\">\n",
       "      <th></th>\n",
       "      <th>letter</th>\n",
       "      <th>qnt</th>\n",
       "    </tr>\n",
       "  </thead>\n",
       "  <tbody>\n",
       "    <tr>\n",
       "      <th>5</th>\n",
       "      <td></td>\n",
       "      <td>102095</td>\n",
       "    </tr>\n",
       "    <tr>\n",
       "      <th>1</th>\n",
       "      <td>о</td>\n",
       "      <td>61282</td>\n",
       "    </tr>\n",
       "    <tr>\n",
       "      <th>4</th>\n",
       "      <td>а</td>\n",
       "      <td>45209</td>\n",
       "    </tr>\n",
       "    <tr>\n",
       "      <th>12</th>\n",
       "      <td>е</td>\n",
       "      <td>42519</td>\n",
       "    </tr>\n",
       "    <tr>\n",
       "      <th>6</th>\n",
       "      <td>и</td>\n",
       "      <td>35838</td>\n",
       "    </tr>\n",
       "  </tbody>\n",
       "</table>\n",
       "</div>"
      ],
      "text/plain": [
       "   letter     qnt\n",
       "5          102095\n",
       "1       о   61282\n",
       "4       а   45209\n",
       "12      е   42519\n",
       "6       и   35838"
      ]
     },
     "execution_count": 5,
     "metadata": {},
     "output_type": "execute_result"
    }
   ],
   "source": [
    "letters_dict = tokenz(data_ru_string)\n",
    "\n",
    "letters_frame = pd.DataFrame.from_dict(letters_dict, orient='index').reset_index()\n",
    "letters_frame.columns = ['letter', 'qnt']\n",
    "letters_frame = letters_frame.sort_values('qnt', ascending=False)\n",
    "\n",
    "letters_frame.head()"
   ]
  },
  {
   "cell_type": "markdown",
   "metadata": {},
   "source": [
    "Сформируем случайное правило кодирования"
   ]
  },
  {
   "cell_type": "code",
   "execution_count": 6,
   "metadata": {},
   "outputs": [],
   "source": [
    "random.seed(42)\n",
    "\n",
    "a = ord('а')\n",
    "alphabet = ' '.join([chr(i) for i in range(a,a+32)]).split() + [' ']\n",
    "alphabet_mix = alphabet.copy()\n",
    "random.shuffle(alphabet_mix)\n",
    "\n",
    "coding_frame = pd.DataFrame(columns=['letter', 'code'])\n",
    "coding_frame['letter'] = alphabet\n",
    "coding_frame['code'] = alphabet_mix\n",
    "coding_frame = coding_frame.set_index('letter')\n",
    "\n",
    "coding_dict = coding_frame.to_dict()['code']"
   ]
  },
  {
   "cell_type": "markdown",
   "metadata": {},
   "source": [
    "Закодируем предложения из Анны Карениной"
   ]
  },
  {
   "cell_type": "code",
   "execution_count": 7,
   "metadata": {},
   "outputs": [
    {
     "data": {
      "text/plain": [
       "'все счастливые семьи похожи друг на друга каждая несчастливая семья несчастлива посвоему все смешалось в доме облонских жена узнала что муж был в связи с бывшею в их доме француженкою гувернанткой и объявила мужу что не может жить с ним в одном доме'"
      ]
     },
     "execution_count": 7,
     "metadata": {},
     "output_type": "execute_result"
    }
   ],
   "source": [
    "anna_karenina_text = \"Все счастливые семьи похожи друг на друга, каждая несчастливая семья несчастлива по-своему. Все смешалось в доме Облонских. Жена узнала, что муж был в связи с бывшею в их доме француженкою гувернанткой, и объявила мужу, что не может жить с ним в одном доме.\"\n",
    "anna_karenina_text = regex.sub(' ', re.sub('[^а-я ]+', '', anna_karenina_text.lower()))\n",
    "anna_karenina_text"
   ]
  },
  {
   "cell_type": "code",
   "execution_count": 8,
   "metadata": {},
   "outputs": [
    {
     "data": {
      "text/plain": [
       "'ламзахыаяцкльмзамй кзжшвшфкзъщнрзэызъщнрызуыфъыбзэмахыаяцклыбзамй бзэмахыаяцклызжшалшмйнзламзаймгыцша злзъшймзшецшэауквзфмэызнпэыцызхяшзйнфзеьцзлзалбпкзазеьлгмчзлзквзъшймзтщыэснфмэушчзрнлмщэыэяушозкзшедблкцызйнфнзхяшзэмзйшфмязфкя зазэкйзлзшъэшйзъшйм'"
      ]
     },
     "execution_count": 8,
     "metadata": {},
     "output_type": "execute_result"
    }
   ],
   "source": [
    "anna_karenina_text_coded = ''.join([coding_dict[i] for i in anna_karenina_text])\n",
    "anna_karenina_text_coded"
   ]
  },
  {
   "cell_type": "markdown",
   "metadata": {},
   "source": [
    "Соберем статистику на тексте из Анны Карениной"
   ]
  },
  {
   "cell_type": "code",
   "execution_count": 9,
   "metadata": {},
   "outputs": [
    {
     "data": {
      "text/html": [
       "<div>\n",
       "<style scoped>\n",
       "    .dataframe tbody tr th:only-of-type {\n",
       "        vertical-align: middle;\n",
       "    }\n",
       "\n",
       "    .dataframe tbody tr th {\n",
       "        vertical-align: top;\n",
       "    }\n",
       "\n",
       "    .dataframe thead th {\n",
       "        text-align: right;\n",
       "    }\n",
       "</style>\n",
       "<table border=\"1\" class=\"dataframe\">\n",
       "  <thead>\n",
       "    <tr style=\"text-align: right;\">\n",
       "      <th></th>\n",
       "      <th>code</th>\n",
       "      <th>qnt</th>\n",
       "    </tr>\n",
       "  </thead>\n",
       "  <tbody>\n",
       "    <tr>\n",
       "      <th>3</th>\n",
       "      <td>з</td>\n",
       "      <td>42</td>\n",
       "    </tr>\n",
       "    <tr>\n",
       "      <th>2</th>\n",
       "      <td>м</td>\n",
       "      <td>18</td>\n",
       "    </tr>\n",
       "    <tr>\n",
       "      <th>13</th>\n",
       "      <td>ш</td>\n",
       "      <td>18</td>\n",
       "    </tr>\n",
       "    <tr>\n",
       "      <th>1</th>\n",
       "      <td>а</td>\n",
       "      <td>17</td>\n",
       "    </tr>\n",
       "    <tr>\n",
       "      <th>5</th>\n",
       "      <td>ы</td>\n",
       "      <td>16</td>\n",
       "    </tr>\n",
       "  </tbody>\n",
       "</table>\n",
       "</div>"
      ],
      "text/plain": [
       "   code  qnt\n",
       "3     з   42\n",
       "2     м   18\n",
       "13    ш   18\n",
       "1     а   17\n",
       "5     ы   16"
      ]
     },
     "execution_count": 9,
     "metadata": {},
     "output_type": "execute_result"
    }
   ],
   "source": [
    "anna_karenina_dict = tokenz(anna_karenina_text_coded)\n",
    "\n",
    "anna_karenina_frame = pd.DataFrame.from_dict(anna_karenina_dict, orient='index').reset_index()\n",
    "anna_karenina_frame.columns = ['code', 'qnt']\n",
    "anna_karenina_frame = anna_karenina_frame.sort_values('qnt', ascending=False)\n",
    "\n",
    "anna_karenina_frame.head()"
   ]
  },
  {
   "cell_type": "markdown",
   "metadata": {},
   "source": [
    "Сформируем словарь для декодирования предложений"
   ]
  },
  {
   "cell_type": "code",
   "execution_count": 10,
   "metadata": {},
   "outputs": [
    {
     "data": {
      "text/html": [
       "<div>\n",
       "<style scoped>\n",
       "    .dataframe tbody tr th:only-of-type {\n",
       "        vertical-align: middle;\n",
       "    }\n",
       "\n",
       "    .dataframe tbody tr th {\n",
       "        vertical-align: top;\n",
       "    }\n",
       "\n",
       "    .dataframe thead th {\n",
       "        text-align: right;\n",
       "    }\n",
       "</style>\n",
       "<table border=\"1\" class=\"dataframe\">\n",
       "  <thead>\n",
       "    <tr style=\"text-align: right;\">\n",
       "      <th></th>\n",
       "      <th>code</th>\n",
       "      <th>qnt</th>\n",
       "      <th>letter</th>\n",
       "    </tr>\n",
       "  </thead>\n",
       "  <tbody>\n",
       "    <tr>\n",
       "      <th>3</th>\n",
       "      <td>з</td>\n",
       "      <td>42</td>\n",
       "      <td></td>\n",
       "    </tr>\n",
       "    <tr>\n",
       "      <th>2</th>\n",
       "      <td>м</td>\n",
       "      <td>18</td>\n",
       "      <td>о</td>\n",
       "    </tr>\n",
       "    <tr>\n",
       "      <th>13</th>\n",
       "      <td>ш</td>\n",
       "      <td>18</td>\n",
       "      <td>а</td>\n",
       "    </tr>\n",
       "    <tr>\n",
       "      <th>1</th>\n",
       "      <td>а</td>\n",
       "      <td>17</td>\n",
       "      <td>е</td>\n",
       "    </tr>\n",
       "    <tr>\n",
       "      <th>5</th>\n",
       "      <td>ы</td>\n",
       "      <td>16</td>\n",
       "      <td>и</td>\n",
       "    </tr>\n",
       "  </tbody>\n",
       "</table>\n",
       "</div>"
      ],
      "text/plain": [
       "   code  qnt letter\n",
       "3     з   42       \n",
       "2     м   18      о\n",
       "13    ш   18      а\n",
       "1     а   17      е\n",
       "5     ы   16      и"
      ]
     },
     "execution_count": 10,
     "metadata": {},
     "output_type": "execute_result"
    }
   ],
   "source": [
    "anna_karenina_frame['letter'] = letters_frame['letter'].values[:anna_karenina_frame.shape[0]]\n",
    "temp = anna_karenina_frame[['letter', 'code']]\n",
    "temp = temp.set_index('code')\n",
    "decoding_dict = temp.to_dict()['letter']\n",
    "\n",
    "anna_karenina_frame.head()"
   ]
  },
  {
   "cell_type": "markdown",
   "metadata": {},
   "source": [
    "Декодируем предложения"
   ]
  },
  {
   "cell_type": "code",
   "execution_count": 11,
   "metadata": {},
   "outputs": [
    {
     "data": {
      "text/plain": [
       "'нео епиекдлнчо еосял йабарл мывз ти мывзи ьирмиу тоепиекдлниу еосяу тоепиекдлни йаенаосв нео есожидаея н масо агдатеьлб роти вштиди пка свр гчд н енушл е гчнжох н лб масо юыитцвротьах звноытиткьаэ л агщунлди сврв пка то сарок рлкя е тлс н амтас масо'"
      ]
     },
     "execution_count": 11,
     "metadata": {},
     "output_type": "execute_result"
    }
   ],
   "source": [
    "anna_karenina_text_decoded = ''.join([decoding_dict[i] for i in anna_karenina_text_coded])\n",
    "anna_karenina_text_decoded"
   ]
  },
  {
   "cell_type": "markdown",
   "metadata": {},
   "source": [
    "# Task 2"
   ]
  },
  {
   "cell_type": "markdown",
   "metadata": {},
   "source": [
    "2. Вряд ли в результате получилась такая уж хорошая расшифровка, разве что если вы брали в качестве тестовых данных целые рассказы. Но и Шерлок Холмс был не так уж прост: после буквы E, которая действительно выделяется частотой, дальше он анализировал уже конкретные слова и пытался угадать, какими они могли бы быть. Я не знаю, как запрограммировать такой интуитивный анализ, так что давайте просто сделаем следующий логический шаг:\n",
    "    * подсчитайте частоты биграмм (т.е. пар последовательных букв) по корпусам;\n",
    "    * проведите тестирование аналогично п.1, но при помощи биграмм.\n"
   ]
  },
  {
   "cell_type": "markdown",
   "metadata": {},
   "source": [
    "**Решение**"
   ]
  },
  {
   "cell_type": "markdown",
   "metadata": {},
   "source": [
    "Формируем dataframe с частотами букв и пробелов в тренировочном тексте (Война и мир)"
   ]
  },
  {
   "cell_type": "code",
   "execution_count": 12,
   "metadata": {},
   "outputs": [],
   "source": [
    "def bigrams(text):\n",
    "    bigrams_ru = {}\n",
    "    for i in range(len(text)-1):\n",
    "        bigram = text[i:i+2]\n",
    "        if bigram in bigrams_ru.keys():\n",
    "            bigrams_ru[bigram] += 1\n",
    "        else:\n",
    "            bigrams_ru[bigram] = 1\n",
    "    return bigrams_ru"
   ]
  },
  {
   "cell_type": "code",
   "execution_count": 13,
   "metadata": {},
   "outputs": [
    {
     "data": {
      "text/html": [
       "<div>\n",
       "<style scoped>\n",
       "    .dataframe tbody tr th:only-of-type {\n",
       "        vertical-align: middle;\n",
       "    }\n",
       "\n",
       "    .dataframe tbody tr th {\n",
       "        vertical-align: top;\n",
       "    }\n",
       "\n",
       "    .dataframe thead th {\n",
       "        text-align: right;\n",
       "    }\n",
       "</style>\n",
       "<table border=\"1\" class=\"dataframe\">\n",
       "  <thead>\n",
       "    <tr style=\"text-align: right;\">\n",
       "      <th></th>\n",
       "      <th>bigram</th>\n",
       "      <th>qnt</th>\n",
       "    </tr>\n",
       "  </thead>\n",
       "  <tbody>\n",
       "    <tr>\n",
       "      <th>50</th>\n",
       "      <td>о</td>\n",
       "      <td>13217</td>\n",
       "    </tr>\n",
       "    <tr>\n",
       "      <th>6</th>\n",
       "      <td>и</td>\n",
       "      <td>11304</td>\n",
       "    </tr>\n",
       "    <tr>\n",
       "      <th>4</th>\n",
       "      <td>а</td>\n",
       "      <td>10413</td>\n",
       "    </tr>\n",
       "    <tr>\n",
       "      <th>56</th>\n",
       "      <td>е</td>\n",
       "      <td>9920</td>\n",
       "    </tr>\n",
       "    <tr>\n",
       "      <th>11</th>\n",
       "      <td>с</td>\n",
       "      <td>9798</td>\n",
       "    </tr>\n",
       "  </tbody>\n",
       "</table>\n",
       "</div>"
      ],
      "text/plain": [
       "   bigram    qnt\n",
       "50     о   13217\n",
       "6      и   11304\n",
       "4      а   10413\n",
       "56     е    9920\n",
       "11      с   9798"
      ]
     },
     "execution_count": 13,
     "metadata": {},
     "output_type": "execute_result"
    }
   ],
   "source": [
    "bigrams_dict = bigrams(data_ru_string)\n",
    "\n",
    "bigrams_frame = pd.DataFrame.from_dict(bigrams_dict, orient='index').reset_index()\n",
    "bigrams_frame.columns = ['bigram', 'qnt']\n",
    "bigrams_frame = bigrams_frame.sort_values('qnt', ascending=False)\n",
    "\n",
    "bigrams_frame.head()"
   ]
  },
  {
   "cell_type": "markdown",
   "metadata": {},
   "source": [
    "Соберем статистику по биграмма на тексте из Анны Карениной"
   ]
  },
  {
   "cell_type": "code",
   "execution_count": 14,
   "metadata": {},
   "outputs": [
    {
     "data": {
      "text/html": [
       "<div>\n",
       "<style scoped>\n",
       "    .dataframe tbody tr th:only-of-type {\n",
       "        vertical-align: middle;\n",
       "    }\n",
       "\n",
       "    .dataframe tbody tr th {\n",
       "        vertical-align: top;\n",
       "    }\n",
       "\n",
       "    .dataframe thead th {\n",
       "        text-align: right;\n",
       "    }\n",
       "</style>\n",
       "<table border=\"1\" class=\"dataframe\">\n",
       "  <thead>\n",
       "    <tr style=\"text-align: right;\">\n",
       "      <th></th>\n",
       "      <th>code_bigram</th>\n",
       "      <th>qnt</th>\n",
       "    </tr>\n",
       "  </thead>\n",
       "  <tbody>\n",
       "    <tr>\n",
       "      <th>3</th>\n",
       "      <td>за</td>\n",
       "      <td>7</td>\n",
       "    </tr>\n",
       "    <tr>\n",
       "      <th>2</th>\n",
       "      <td>мз</td>\n",
       "      <td>6</td>\n",
       "    </tr>\n",
       "    <tr>\n",
       "      <th>30</th>\n",
       "      <td>ыз</td>\n",
       "      <td>6</td>\n",
       "    </tr>\n",
       "    <tr>\n",
       "      <th>49</th>\n",
       "      <td>зл</td>\n",
       "      <td>5</td>\n",
       "    </tr>\n",
       "    <tr>\n",
       "      <th>28</th>\n",
       "      <td>зэ</td>\n",
       "      <td>5</td>\n",
       "    </tr>\n",
       "  </tbody>\n",
       "</table>\n",
       "</div>"
      ],
      "text/plain": [
       "   code_bigram  qnt\n",
       "3           за    7\n",
       "2           мз    6\n",
       "30          ыз    6\n",
       "49          зл    5\n",
       "28          зэ    5"
      ]
     },
     "execution_count": 14,
     "metadata": {},
     "output_type": "execute_result"
    }
   ],
   "source": [
    "anna_karenina_bigram_dict = bigrams(anna_karenina_text_coded)\n",
    "\n",
    "anna_karenina_bigram_frame = pd.DataFrame.from_dict(anna_karenina_bigram_dict, orient='index').reset_index()\n",
    "anna_karenina_bigram_frame.columns = ['code_bigram', 'qnt']\n",
    "anna_karenina_bigram_frame = anna_karenina_bigram_frame.sort_values('qnt', ascending=False)\n",
    "\n",
    "anna_karenina_bigram_frame.head()"
   ]
  },
  {
   "cell_type": "markdown",
   "metadata": {},
   "source": [
    "Сформируем словарь для декодирования предложений"
   ]
  },
  {
   "cell_type": "code",
   "execution_count": 15,
   "metadata": {},
   "outputs": [
    {
     "data": {
      "text/html": [
       "<div>\n",
       "<style scoped>\n",
       "    .dataframe tbody tr th:only-of-type {\n",
       "        vertical-align: middle;\n",
       "    }\n",
       "\n",
       "    .dataframe tbody tr th {\n",
       "        vertical-align: top;\n",
       "    }\n",
       "\n",
       "    .dataframe thead th {\n",
       "        text-align: right;\n",
       "    }\n",
       "</style>\n",
       "<table border=\"1\" class=\"dataframe\">\n",
       "  <thead>\n",
       "    <tr style=\"text-align: right;\">\n",
       "      <th></th>\n",
       "      <th>code_bigram</th>\n",
       "      <th>qnt</th>\n",
       "      <th>bigram</th>\n",
       "    </tr>\n",
       "  </thead>\n",
       "  <tbody>\n",
       "    <tr>\n",
       "      <th>3</th>\n",
       "      <td>за</td>\n",
       "      <td>7</td>\n",
       "      <td>о</td>\n",
       "    </tr>\n",
       "    <tr>\n",
       "      <th>2</th>\n",
       "      <td>мз</td>\n",
       "      <td>6</td>\n",
       "      <td>и</td>\n",
       "    </tr>\n",
       "    <tr>\n",
       "      <th>30</th>\n",
       "      <td>ыз</td>\n",
       "      <td>6</td>\n",
       "      <td>а</td>\n",
       "    </tr>\n",
       "    <tr>\n",
       "      <th>49</th>\n",
       "      <td>зл</td>\n",
       "      <td>5</td>\n",
       "      <td>е</td>\n",
       "    </tr>\n",
       "    <tr>\n",
       "      <th>28</th>\n",
       "      <td>зэ</td>\n",
       "      <td>5</td>\n",
       "      <td>с</td>\n",
       "    </tr>\n",
       "  </tbody>\n",
       "</table>\n",
       "</div>"
      ],
      "text/plain": [
       "   code_bigram  qnt bigram\n",
       "3           за    7     о \n",
       "2           мз    6     и \n",
       "30          ыз    6     а \n",
       "49          зл    5     е \n",
       "28          зэ    5      с"
      ]
     },
     "execution_count": 15,
     "metadata": {},
     "output_type": "execute_result"
    }
   ],
   "source": [
    "anna_karenina_bigram_frame['bigram'] = bigrams_frame['bigram'].values[:anna_karenina_bigram_frame.shape[0]]\n",
    "temp = anna_karenina_bigram_frame[['bigram', 'code_bigram']]\n",
    "temp = temp.set_index('code_bigram')\n",
    "decoding_bigram_dict = temp.to_dict()['bigram']\n",
    "\n",
    "anna_karenina_bigram_frame.head()"
   ]
  },
  {
   "cell_type": "markdown",
   "metadata": {},
   "source": [
    "Декодируем предложения"
   ]
  },
  {
   "cell_type": "code",
   "execution_count": 16,
   "metadata": {},
   "outputs": [
    {
     "data": {
      "text/plain": [
       "'оли нагора иисо сттрриим ч вилва са илваа сяру м сомь пол скно кзаноконагора иа аногю  бе  ко я дироаре  птои еррослитенал нед э да осли бсоло л оогну врелоамсье к еновя  едаы каонорнитибыойв асодк неесакема  блеелла си моалдо гльо  стее не зто пто'"
      ]
     },
     "execution_count": 16,
     "metadata": {},
     "output_type": "execute_result"
    }
   ],
   "source": [
    "anna_karenina_text_decoded_bigram = ''.join([decoding_bigram_dict[anna_karenina_text_coded[i:i+2]] for i in range(0, len(anna_karenina_text_coded)-1, 2)])\n",
    "anna_karenina_text_decoded_bigram"
   ]
  },
  {
   "cell_type": "markdown",
   "metadata": {},
   "source": [
    "# Task 3"
   ]
  },
  {
   "cell_type": "markdown",
   "metadata": {},
   "source": [
    "3. Но и это ещё не всё: биграммы скорее всего тоже далеко не всегда работают. Основная часть задания — в том, как можно их улучшить:\n",
    "    * предложите метод обучения перестановки символов в этом задании, основанный на MCMC-сэмплировании, но по-прежнему работающий на основе статистики биграмм;\n",
    "    * реализуйте и протестируйте его, убедитесь, что результаты улучшились.\n"
   ]
  },
  {
   "cell_type": "markdown",
   "metadata": {},
   "source": [
    "**Решение**"
   ]
  },
  {
   "cell_type": "markdown",
   "metadata": {},
   "source": [
    "Пусть функция f : {code} -> {letter} переводит кодированный символ в букву обычного алфавита.\n",
    "\n",
    "Тогда мы можем выбрать следующую функцию потерь: L(f) = SUMM_i log(M(f(s_i), f(s_i+1))), где \n",
    "    * s_i и s_i+1 - i и i+1 символы шифрованного текста\n",
    "    * SUMM_i - суммирование по всем позициям i из зашифрованного текста\n",
    "    * М - это количество биграм f(s_i) f(s_i+1) в тексте, который использовался для сбора статистики\n",
    "\n",
    "После данных предположений алгоритм дешифровки будет состоять в следующем:\n",
    "1. Выбираем случайную функцию f для дешифровки\n",
    "2. Вычисляем функцию потерь L(f)\n",
    "3. Формируем новую декодирующую функцию f_new перестановкой двух любых случайных символов в функции f\n",
    "4. Вычисляем новую функцию потерь L(f_new)\n",
    "5. Если L(f_new) >= L(f), тогда сохранем f_new\n",
    "6. Если L(f_new) < L(f), тогда с веротностью L(f_new)/L(f) сохраняем f_new\n",
    "7. Если f_new не сохранили то продолжаем использовать f\n",
    "Повторяем пункты 2-7, пока не получим достаточно хорошо расшифрованное сообщение"
   ]
  },
  {
   "cell_type": "markdown",
   "metadata": {},
   "source": [
    "Преобразуем dataframe с частотами биграмм на тренировочном тексте: выделим в отдельные столбцы первую и вторую буквы биграмм"
   ]
  },
  {
   "cell_type": "code",
   "execution_count": 17,
   "metadata": {},
   "outputs": [
    {
     "data": {
      "text/html": [
       "<div>\n",
       "<style scoped>\n",
       "    .dataframe tbody tr th:only-of-type {\n",
       "        vertical-align: middle;\n",
       "    }\n",
       "\n",
       "    .dataframe tbody tr th {\n",
       "        vertical-align: top;\n",
       "    }\n",
       "\n",
       "    .dataframe thead th {\n",
       "        text-align: right;\n",
       "    }\n",
       "</style>\n",
       "<table border=\"1\" class=\"dataframe\">\n",
       "  <thead>\n",
       "    <tr style=\"text-align: right;\">\n",
       "      <th></th>\n",
       "      <th>bigram</th>\n",
       "      <th>qnt</th>\n",
       "      <th>first_letter</th>\n",
       "      <th>second_letter</th>\n",
       "    </tr>\n",
       "  </thead>\n",
       "  <tbody>\n",
       "    <tr>\n",
       "      <th>50</th>\n",
       "      <td>о</td>\n",
       "      <td>13217</td>\n",
       "      <td>о</td>\n",
       "      <td></td>\n",
       "    </tr>\n",
       "    <tr>\n",
       "      <th>6</th>\n",
       "      <td>и</td>\n",
       "      <td>11304</td>\n",
       "      <td>и</td>\n",
       "      <td></td>\n",
       "    </tr>\n",
       "    <tr>\n",
       "      <th>4</th>\n",
       "      <td>а</td>\n",
       "      <td>10413</td>\n",
       "      <td>а</td>\n",
       "      <td></td>\n",
       "    </tr>\n",
       "    <tr>\n",
       "      <th>56</th>\n",
       "      <td>е</td>\n",
       "      <td>9920</td>\n",
       "      <td>е</td>\n",
       "      <td></td>\n",
       "    </tr>\n",
       "    <tr>\n",
       "      <th>11</th>\n",
       "      <td>с</td>\n",
       "      <td>9798</td>\n",
       "      <td></td>\n",
       "      <td>с</td>\n",
       "    </tr>\n",
       "  </tbody>\n",
       "</table>\n",
       "</div>"
      ],
      "text/plain": [
       "   bigram    qnt first_letter second_letter\n",
       "50     о   13217            о              \n",
       "6      и   11304            и              \n",
       "4      а   10413            а              \n",
       "56     е    9920            е              \n",
       "11      с   9798                          с"
      ]
     },
     "execution_count": 17,
     "metadata": {},
     "output_type": "execute_result"
    }
   ],
   "source": [
    "bigrams_frame['first_letter'] = bigrams_frame['bigram'].apply(lambda x: x[0])\n",
    "bigrams_frame['second_letter'] = bigrams_frame['bigram'].apply(lambda x: x[1])\n",
    "bigrams_frame.head()"
   ]
  },
  {
   "cell_type": "markdown",
   "metadata": {},
   "source": [
    "Определим набор функций для реализации MCMC алгоритма"
   ]
  },
  {
   "cell_type": "code",
   "execution_count": 18,
   "metadata": {},
   "outputs": [],
   "source": [
    "# Функция качества распознавания текста\n",
    "def loss_func(text, decode_dict, bigrams_frame):\n",
    "    loss = 0\n",
    "    for i in range(len(text)-1):\n",
    "        fc = text[i]\n",
    "        sc = text[i+1]\n",
    "        fl = decode_dict[fc]\n",
    "        sl = decode_dict[sc]\n",
    "        arr = bigrams_frame.loc[(bigrams_frame['first_letter']==fl)&(bigrams_frame['second_letter']==sl), 'qnt'].values\n",
    "        if len(arr) > 0: \n",
    "            value = arr[0]\n",
    "        else:\n",
    "            value = 1\n",
    "        loss = loss + np.log(value) \n",
    "        \n",
    "    return loss"
   ]
  },
  {
   "cell_type": "code",
   "execution_count": 19,
   "metadata": {},
   "outputs": [],
   "source": [
    "# Функция меняет два случайных значения словаря между собой\n",
    "def make_change(decode_dict):\n",
    "    new_decode_dict = decode_dict.copy()\n",
    "    keys_list = random.choices(list(decode_dict), k=2)\n",
    "    if keys_list[0] == keys_list[1]:\n",
    "        return make_change(decode_dict)\n",
    "    temp = new_decode_dict[keys_list[0]]\n",
    "    new_decode_dict[keys_list[0]] = new_decode_dict[keys_list[1]]\n",
    "    new_decode_dict[keys_list[1]] = temp\n",
    "    return new_decode_dict"
   ]
  },
  {
   "cell_type": "code",
   "execution_count": 20,
   "metadata": {},
   "outputs": [],
   "source": [
    "# Функция определяет следующий шаг\n",
    "def make_step(f_new, f, dict_new, dict_):\n",
    "    if f_new > f:\n",
    "        return dict_new, f_new\n",
    "    else:\n",
    "        unif = random.uniform(0,1)\n",
    "        if unif < np.exp(f_new - f):\n",
    "            return dict_new, f_new\n",
    "        else:\n",
    "            return dict_, f"
   ]
  },
  {
   "cell_type": "code",
   "execution_count": 21,
   "metadata": {},
   "outputs": [],
   "source": [
    "# Функция декодирования текста\n",
    "def decoding_func(text, dec_dic):\n",
    "    return ''.join([dec_dic[i] for i in text])"
   ]
  },
  {
   "cell_type": "code",
   "execution_count": 22,
   "metadata": {},
   "outputs": [],
   "source": [
    "# Реализация MCMC алгоритма\n",
    "def MCMC_decoding(text, decode_dict_temp, bigrams_frame, N_iter):\n",
    "    f = loss_func(text=text, decode_dict=decode_dict_temp, bigrams_frame=bigrams_frame)\n",
    "    for i in range(N_iter):\n",
    "        new_decoding_dict = make_change(decode_dict_temp)\n",
    "        new_decoding_dict = make_change(new_decoding_dict)\n",
    "        while new_decoding_dict == decode_dict_temp:\n",
    "            new_decoding_dict = make_change(new_decoding_dict)\n",
    "        \n",
    "        f_new = loss_func(text=text, decode_dict=new_decoding_dict, bigrams_frame=bigrams_frame)\n",
    "        decode_dict_temp, f = make_step(f_new=f_new, f=f, dict_new=new_decoding_dict, dict_=decode_dict_temp)\n",
    "        if i % 1000 == 0:\n",
    "            print(f'ITER {i}: {decoding_func(text=text, dec_dic=decode_dict_temp)}')\n",
    "            print(f'LOSS {i}: {round(f, 5)}')\n",
    "            print()\n",
    "            \n",
    "    return decode_dict_temp"
   ]
  },
  {
   "cell_type": "code",
   "execution_count": 23,
   "metadata": {},
   "outputs": [],
   "source": [
    "# Формируем начальное состояние словаря для декодирования, идентично первому заданию\n",
    "a = ord('а')\n",
    "alphabet = ' '.join([chr(i) for i in range(a,a+32)]).split() + [' ']\n",
    "alphabet_mix = alphabet.copy()\n",
    "random.shuffle(alphabet_mix)\n",
    "\n",
    "decoding_frame = pd.DataFrame(columns=['letter', 'code'])\n",
    "decoding_frame['code'] = alphabet\n",
    "decoding_frame['letter'] = alphabet_mix\n",
    "decoding_frame = decoding_frame.set_index('code')\n",
    "\n",
    "decoding_dict_tsk3 = decoding_frame.to_dict()['letter']"
   ]
  },
  {
   "cell_type": "code",
   "execution_count": 24,
   "metadata": {},
   "outputs": [
    {
     "name": "stdout",
     "output_type": "stream",
     "text": [
      "ITER 0: т рп ла хщэтжрп рйыэпфвзвяэпкгьопдапкгьоапуаякаъпдр ла хщэтаъп рйыъпдр ла хщэтапфв тврйьпт рп йрчащв ыптпквйрпвшщвд уэзпярдапьцдащаплхвпйьяпшжщптп тъцэп пшжтчрмптпэзпквйрпюгадбьярдувмпоьтргдадхувспэпвшнътэщапйьяьплхвпдрпйвярхпяэхып пдэйптпвкдвйпквйр\n",
      "LOSS 0: 899.66682\n",
      "\n",
      "ITER 1000: сто тхатвшлсьо торыл цеюедл буик ма буика падбан мотхатвшлсан торын мотхатвшлса цетсеори сто трожашеты с беро езшемтплю дома ичмаша хве рид зьш с тснчл т зьсжой с лю беро эуамщидомпей кисоумамвпеф л езгнслша риди хве мо редов длвы т млр с ебмер беро\n",
      "LOSS 1000: 1731.08677\n",
      "\n",
      "ITER 2000: сто тдатвмисьо торыи пехели кгуж на кгужа фалкай нотдатвмисай торый нотдатвмиса петсеору сто троцаметы с керо езментфих лона ушнама две рул зьм с тсйши т зьсцоя с их керо эганчулонфея жусогнанвфею и езбйсима рулу две но релов ливы т нир с екнер керо\n",
      "LOSS 2000: 1802.52032\n",
      "\n",
      "ITER 3000: сте ткотрмисье тевыи пабали дчуж но дчужо голдой неткотрмисой тевый неткотрмисо патсаеву сте твецоматы с даве азмантгиб лено ушномо кра вул зьм с тсйши т зьсцея с иб даве фчонщуленгая жусечнонргах и азюйсимо вулу кра не валер лиры т нив с аднав даве\n",
      "LOSS 3000: 1821.52607\n",
      "\n",
      "ITER 4000: сте ткотрмисье тевыи пафали дчуб но дчубо голдой неткотрмисой тевый неткотрмисо патсаеву сте твецоматы с даве азмантгиф лено ушномо кра вул зьм с тсйши т зьсцея с иф даве жчонщуленгая бусечнонргах и азюйсимо вулу кра не валер лиры т нив с аднав даве\n",
      "LOSS 4000: 1822.09672\n",
      "\n",
      "ITER 5000: сте ткотрмисье телыи пахави дцуб но дцубо говдой неткотрмисой телый неткотрмисо патсаелу сте тлешоматы с дале азмантгих вено учномо кра лув зьм с тсйчи т зьсшею с их дале фцонщувенгаю бусецнонргая и азжйсимо луву кра не лавер виры т нил с аднал дале\n",
      "LOSS 5000: 1836.64736\n",
      "\n",
      "ITER 6000: сте ткотрмисье телыи шахади вцуг но вцуго бодвой неткотрмисой телый неткотрмисо шатсаелу сте тлепоматы с вале азмантбих дено учномо кра луд зьм с тсйчи т зьспею с их вале яцонщуденбаю гусецнонрбаф и азжйсимо луду кра не ладер диры т нил с авнал вале\n",
      "LOSS 6000: 1837.81119\n",
      "\n",
      "ITER 7000: сте ткотрмисье телыи бахади вшуг но вшуго чодвой неткотрмисой телый неткотрмисо батсаелу сте тлепоматы с вале азмантчих дено уцномо кра луд зьм с тсйци т зьспею с их вале эшонщуденчаю гусешнонрчаф и азяйсимо луду кра не ладер диры т нил с авнал вале\n",
      "LOSS 7000: 1844.2527\n",
      "\n",
      "ITER 8000: сте тпотрмисье телыи бахади вшуг но вшуго чодвой нетпотрмисой телый нетпотрмисо батсаелу сте тлецоматы с вале азмантчих дено укномо пра луд зьм с тсйки т зьсцею с их вале эшонщуденчаю гусешнонрчаф и азяйсимо луду пра не ладер диры т нил с авнал вале\n",
      "LOSS 8000: 1846.78635\n",
      "\n",
      "ITER 9000: сте тпотрмисье телыи баюади вкуг но вкуго чодвой нетпотрмисой телый нетпотрмисо батсаелу сте тлецоматы с вале азмантчию дено ушномо пра луд зьм с тсйши т зьсцех с ию вале эконщуденчах гусекнонрчаф и азяйсимо луду пра не ладер диры т нил с авнал вале\n",
      "LOSS 9000: 1843.60899\n",
      "\n",
      "ITER 10000: сте тпотрмисье телыи бацади вкуг но вкуго чодвой нетпотрмисой телый нетпотрмисо батсаелу сте тлежоматы с вале азмантчиц дено ушномо пра луд зьм с тсйши т зьсжех с иц вале эконщуденчах гусекнонрчаф и азяйсимо луду пра не ладер диры т нил с авнал вале\n",
      "LOSS 10000: 1845.54523\n",
      "\n",
      "Wall time: 10h 2min 51s\n"
     ]
    }
   ],
   "source": [
    "%%time\n",
    "decoding_dict_tsk3 = MCMC_decoding(text=anna_karenina_text_coded, \n",
    "                              decode_dict_temp=decoding_dict_tsk3, \n",
    "                              bigrams_frame=bigrams_frame, \n",
    "                              N_iter=10001\n",
    "                             )"
   ]
  },
  {
   "cell_type": "markdown",
   "metadata": {},
   "source": [
    "Итоговое расшифрованное сообщение"
   ]
  },
  {
   "cell_type": "code",
   "execution_count": 25,
   "metadata": {},
   "outputs": [
    {
     "name": "stdout",
     "output_type": "stream",
     "text": [
      "сте тпотрмисье телыи бацади вкуг но вкуго чодвой нетпотрмисой телый нетпотрмисо батсаелу сте тлежоматы с вале азмантчиц дено ушномо пра луд зьм с тсйши т зьсжех с иц вале эконщуденчах гусекнонрчаф и азяйсимо луду пра не ладер диры т нил с авнал вале\n"
     ]
    }
   ],
   "source": [
    "print(decoding_func(text=anna_karenina_text_coded, dec_dic=decoding_dict_tsk3))"
   ]
  },
  {
   "cell_type": "markdown",
   "metadata": {},
   "source": [
    "    Видно, что текст уже начинает быть более менее похожим на оригинал. (при одном из предыдущих запусков у меня получилось достаточно хорошо приблизиться к оригиналу) \n",
    "    Ниже приведен шифр, которым было зашифровано сообщение и найденный шифр. (пробелы для наглядности)"
   ]
  },
  {
   "cell_type": "code",
   "execution_count": 26,
   "metadata": {},
   "outputs": [
    {
     "name": "stdout",
     "output_type": "stream",
     "text": [
      "Алфавит        : А Б В Г Д Е Ж З И Й К Л М Н О П Р С Т У Ф Х Ц Ч Ш Щ Ъ Ы Ь Э Ю Я  \n",
      "Шифр           : Ы Е Л Р Ъ М Ф П К О У Ц Й Э Ш Ж Щ А Я Н Т В С Х Г Ю Д Ь   И Ч Б З\n",
      "Шифр найденный : Ш Ж Ъ Р Ф М Г Е К Б Щ Й Ц Э Ы Х Я Л А Н О Ч В У П С Ю   Ь Т И Д З\n"
     ]
    }
   ],
   "source": [
    "print(f\"Алфавит        : {' '.join(coding_dict.keys()).upper()}\")\n",
    "print(f\"Шифр           : {' '.join([coding_dict[i] for i in coding_dict.keys()]).upper()}\")\n",
    "temp = list(pd.DataFrame.from_dict(decoding_dict_tsk3, orient='index').reset_index().sort_values(0)['index'])\n",
    "temp = temp[1:] + [temp[0]]\n",
    "print(f\"Шифр найденный : {' '.join(temp).upper()}\")"
   ]
  },
  {
   "cell_type": "markdown",
   "metadata": {},
   "source": [
    "# Task 4"
   ]
  },
  {
   "cell_type": "markdown",
   "metadata": {},
   "source": [
    "4. Расшифруйте сообщение:\n",
    "    ←⇠⇒↟↹↷⇊↹↷↟↤↟↨←↹↝⇛⇯↳⇴⇒⇈↝⇊↾↹↟⇒↟↹⇷⇛⇞↨↟↹↝⇛⇯↳⇴⇒⇈↝⇊↾↹↨←⇌⇠↨↹⇙↹⇸↨⇛↙⇛↹⇠⇛⇛↲⇆←↝↟↞↹⇌⇛↨⇛⇯⇊↾↹⇒←↙⇌⇛↹⇷⇯⇛⇞↟↨⇴↨⇈↹⇠⇌⇛⇯←←↹↷⇠←↙⇛↹↷⇊↹↷⇠←↹⇠↤←⇒⇴⇒↟↹⇷⇯⇴↷↟⇒⇈↝⇛↹↟↹⇷⇛⇒⇙⇞↟↨←↹↳⇴⇌⇠↟↳⇴⇒⇈↝⇊↾↹↲⇴⇒⇒↹⇰⇴↹⇷⇛⇠⇒←↤↝←←↹⇞←↨↷←⇯↨⇛←↹⇰⇴↤⇴↝↟←↹⇌⇙⇯⇠⇴↹↘⇛↨↞↹⇌⇛↝←⇞↝⇛↹↞↹↝↟⇞←↙⇛↹↝←↹⇛↲←⇆⇴⇏\n",
    "    Или это (они одинаковые, второй вариант просто на случай проблем с юникодом):\n",
    "    დჳჵჂႨშႼႨშჂხჂჲდႨსႹႭჾႣჵისႼჰႨჂჵჂႨႲႹႧჲჂႨსႹႭჾႣჵისႼჰႨჲდႩჳჲႨჇႨႠჲႹქႹႨჳႹႹჱჶდსჂႽႨႩႹჲႹႭႼჰႨჵდქႩႹႨႲႭႹႧჂჲႣჲიႨჳႩႹႭდდႨშჳდქႹႨშႼႨშჳდႨჳხდჵႣჵჂႨႲႭႣშჂჵისႹႨჂႨႲႹჵჇႧჂჲდႨჾႣႩჳჂჾႣჵისႼჰႨჱႣჵჵႨეႣႨႲႹჳჵდხსდდႨႧდჲშდႭჲႹდႨეႣხႣსჂდႨႩჇႭჳႣႨႾႹჲႽႨႩႹსდႧსႹႨႽႨსჂႧდქႹႨსდႨႹჱდჶႣნ\n"
   ]
  },
  {
   "cell_type": "markdown",
   "metadata": {},
   "source": [
    "Посмотрим на количество уникальных символов в шифре"
   ]
  },
  {
   "cell_type": "code",
   "execution_count": 27,
   "metadata": {},
   "outputs": [
    {
     "name": "stdout",
     "output_type": "stream",
     "text": [
      "Длина алфавита: 28\n"
     ]
    }
   ],
   "source": [
    "text_coded = '←⇠⇒↟↹↷⇊↹↷↟↤↟↨←↹↝⇛⇯↳⇴⇒⇈↝⇊↾↹↟⇒↟↹⇷⇛⇞↨↟↹↝⇛⇯↳⇴⇒⇈↝⇊↾↹↨←⇌⇠↨↹⇙↹⇸↨⇛↙⇛↹⇠⇛⇛↲⇆←↝↟↞↹⇌⇛↨⇛⇯⇊↾↹⇒←↙⇌⇛↹⇷⇯⇛⇞↟↨⇴↨⇈↹⇠⇌⇛⇯←←↹↷⇠←↙⇛↹↷⇊↹↷⇠←↹⇠↤←⇒⇴⇒↟↹⇷⇯⇴↷↟⇒⇈↝⇛↹↟↹⇷⇛⇒⇙⇞↟↨←↹↳⇴⇌⇠↟↳⇴⇒⇈↝⇊↾↹↲⇴⇒⇒↹⇰⇴↹⇷⇛⇠⇒←↤↝←←↹⇞←↨↷←⇯↨⇛←↹⇰⇴↤⇴↝↟←↹⇌⇙⇯⇠⇴↹↘⇛↨↞↹⇌⇛↝←⇞↝⇛↹↞↹↝↟⇞←↙⇛↹↝←↹⇛↲←⇆⇴⇏'\n",
    "code_alphabet = np.unique([i for i in text_coded])\n",
    "print(f'Длина алфавита: {len(code_alphabet)}')"
   ]
  },
  {
   "cell_type": "markdown",
   "metadata": {},
   "source": [
    "В шифре задействованы не все буквы русского алфавита, поэтому добавим в алфавит шифра 4 собственных символа, чтобы была возможность полностью расшифровать написанный текст."
   ]
  },
  {
   "cell_type": "code",
   "execution_count": 28,
   "metadata": {},
   "outputs": [
    {
     "name": "stdout",
     "output_type": "stream",
     "text": [
      "Длина нового алфавита: 33\n"
     ]
    }
   ],
   "source": [
    "code_alphabet = np.append(code_alphabet, ['NaN_'+str(i) for i in range(1, 6)])\n",
    "print(f'Длина нового алфавита: {len(code_alphabet)}')"
   ]
  },
  {
   "cell_type": "markdown",
   "metadata": {},
   "source": [
    "Сформируем начальный словарь для декодирования"
   ]
  },
  {
   "cell_type": "code",
   "execution_count": 29,
   "metadata": {},
   "outputs": [
    {
     "data": {
      "text/html": [
       "<div>\n",
       "<style scoped>\n",
       "    .dataframe tbody tr th:only-of-type {\n",
       "        vertical-align: middle;\n",
       "    }\n",
       "\n",
       "    .dataframe tbody tr th {\n",
       "        vertical-align: top;\n",
       "    }\n",
       "\n",
       "    .dataframe thead th {\n",
       "        text-align: right;\n",
       "    }\n",
       "</style>\n",
       "<table border=\"1\" class=\"dataframe\">\n",
       "  <thead>\n",
       "    <tr style=\"text-align: right;\">\n",
       "      <th></th>\n",
       "      <th>code</th>\n",
       "      <th>letter</th>\n",
       "    </tr>\n",
       "  </thead>\n",
       "  <tbody>\n",
       "    <tr>\n",
       "      <th>0</th>\n",
       "      <td>←</td>\n",
       "      <td>а</td>\n",
       "    </tr>\n",
       "    <tr>\n",
       "      <th>1</th>\n",
       "      <td>↘</td>\n",
       "      <td>б</td>\n",
       "    </tr>\n",
       "    <tr>\n",
       "      <th>2</th>\n",
       "      <td>↙</td>\n",
       "      <td>в</td>\n",
       "    </tr>\n",
       "    <tr>\n",
       "      <th>3</th>\n",
       "      <td>↝</td>\n",
       "      <td>г</td>\n",
       "    </tr>\n",
       "    <tr>\n",
       "      <th>4</th>\n",
       "      <td>↞</td>\n",
       "      <td>д</td>\n",
       "    </tr>\n",
       "  </tbody>\n",
       "</table>\n",
       "</div>"
      ],
      "text/plain": [
       "  code letter\n",
       "0    ←      а\n",
       "1    ↘      б\n",
       "2    ↙      в\n",
       "3    ↝      г\n",
       "4    ↞      д"
      ]
     },
     "execution_count": 29,
     "metadata": {},
     "output_type": "execute_result"
    }
   ],
   "source": [
    "decoding_dict_tsk4 = {}\n",
    "for i, code in enumerate(code_alphabet):\n",
    "    decoding_dict_tsk4[code] = alphabet[i]\n",
    "    \n",
    "pd.DataFrame.from_dict(decoding_dict_tsk4, orient='index').reset_index().rename(columns={'index':'code', 0:'letter'}).head()"
   ]
  },
  {
   "cell_type": "markdown",
   "metadata": {},
   "source": [
    "Применим MCMC алгоритм для расшифровки сообщения"
   ]
  },
  {
   "cell_type": "code",
   "execution_count": 30,
   "metadata": {},
   "outputs": [
    {
     "name": "stdout",
     "output_type": "stream",
     "text": [
      "ITER 0: ацтелкплкежезалгичйщтогпмлетелъиызелгичйщтогпмлзарцзлулхзивилциифнагедлризичпмлтаврилъчиыезщзолцричаалкцавилкплкцалцжатщтелъчщкетогилелъитуыезалйщрцейщтогпмлфщттлшщлъицтажгаалыазкачзиалшщжщгеалручцщлбиздлригаыгилдлгеыавилгалифанщс\n",
      "LOSS 0: 1009.51578\n",
      "\n",
      "ITER 1000: ешла вы вабате носпильных ала гозта носпильных текшт я жторо шоочфенау котосых лерко гсозатить шкосее вшеро вы вше шбелила гсивально а голязате пикшапильных чилл ми гошлебнее зетвестое мибинае кясши цоту конезно у назеро не очефид\n",
      "LOSS 1000: 1696.49467\n",
      "\n",
      "ITER 2000: если вы визите нодпальным или гожти нодпальным терст я этобо соочшеник ротодым лебро гдожитать сродее всебо вы все сзелали гдавильно и голяжите парсипальным чалл ха гослезнее жетведтое хазание рядса фотк ронежно к нижебо не очешащ\n",
      "LOSS 2000: 1746.49005\n",
      "\n",
      "ITER 3000: если вы визите нодпальным или гожти нодпальным терст я этобо соочшеник ротодым лебро гдожитать сродее всебо вы все сзелали гдавильно и голяжите парсипальным чалл ца гослезнее жетведтое цазание рядса хотк ронежно к нижебо не очешаф\n",
      "LOSS 3000: 1747.55428\n",
      "\n",
      "ITER 4000: если вы вимите норкальный или пожти норкальный тедст у этого соочшениц доторый легдо прожитать сдорее всего вы все смелали правильно и полужите кадсикальный чалл ба послемнее жетвертое бамание дурса хотц донежно ц нижего не очешаф\n",
      "LOSS 4000: 1782.87061\n",
      "\n",
      "ITER 5000: если вы вимите нордальный или пожти нордальный текст у этого соочшениц который легко прожитать скорее всего вы все смелали правильно и полужите даксидальный чалл ба послемнее жетвертое бамание курса хотц конежно ц нижего не очешаф\n",
      "LOSS 5000: 1783.38182\n",
      "\n",
      "ITER 6000: если вы вимите нордальный или пожти нордальный текст у этого сообчениц который легко прожитать скорее всего вы все смелали правильно и полужите даксидальный балл ша послемнее жетвертое шамание курса хотц конежно ц нижего не обечаз\n",
      "LOSS 6000: 1782.73632\n",
      "\n",
      "ITER 7000: если вы вимите нордальный или пожти нордальный текст у этого сообчених который легко прожитать скорее всего вы все смелали правильно и полужите даксидальный балл за послемнее жетвертое замание курса цотх конежно х нижего не обечая\n",
      "LOSS 7000: 1792.16697\n",
      "\n",
      "ITER 8000: если вы вимите норкальный или почти норкальный тедст у этого сообжения доторый легдо прочитать сдорее всего вы все смелали правильно и получите кадсикальный балл за послемнее четвертое замание дурса шотя донечно я ничего не обежаф\n",
      "LOSS 8000: 1803.96784\n",
      "\n",
      "ITER 9000: если вы вимите норкальный или почти норкальный тедст у этого сообжения доторый легдо прочитать сдорее всего вы все смелали правильно и получите кадсикальный балл за послемнее четвертое замание дурса шотя донечно я ничего не обежаф\n",
      "LOSS 9000: 1803.96784\n",
      "\n",
      "ITER 10000: если вы вимите норкальный или почти норкальный тедст у этого сообщения доторый легдо прочитать сдорее всего вы все смелали правильно и получите кадсикальный балл за послемнее четвертое замание дурса шотя донечно я ничего не обещаф\n",
      "LOSS 10000: 1804.81748\n",
      "\n",
      "Wall time: 24min 7s\n"
     ]
    }
   ],
   "source": [
    "%%time\n",
    "decoding_dict_tsk4 = MCMC_decoding(text=text_coded, \n",
    "                                   decode_dict_temp=decoding_dict_tsk4, \n",
    "                                   bigrams_frame=bigrams_frame, \n",
    "                                   N_iter=10001\n",
    "                                  )"
   ]
  },
  {
   "cell_type": "markdown",
   "metadata": {},
   "source": [
    "Итоговое расшифрованное сообщение"
   ]
  },
  {
   "cell_type": "code",
   "execution_count": 31,
   "metadata": {},
   "outputs": [
    {
     "name": "stdout",
     "output_type": "stream",
     "text": [
      "если вы вимите норкальный или почти норкальный тедст у этого сообщения доторый легдо прочитать сдорее всего вы все смелали правильно и получите кадсикальный балл за послемнее четвертое замание дурса шотя донечно я ничего не обещаф\n"
     ]
    }
   ],
   "source": [
    "print(decoding_func(text=text_coded, dec_dic=decoding_dict_tsk4))"
   ]
  },
  {
   "cell_type": "markdown",
   "metadata": {},
   "source": [
    "Текст достаточно хорошо расшифровался. По расшифровке текста уже понятно содержимое сообщения. Ниже приведен найденный шифр. (пробелы для наглядности)"
   ]
  },
  {
   "cell_type": "code",
   "execution_count": 33,
   "metadata": {},
   "outputs": [
    {
     "name": "stdout",
     "output_type": "stream",
     "text": [
      "Алфавит        : ← ↘ ↙ ↝ ↞ ↟ ↤ ↨ ↲ ↳ ↷ ↹ ↾ ⇆ ⇈ ⇊ ⇌ ⇏ ⇒ ⇙ ⇛ ⇞ ⇠ ⇯ ⇰ ⇴ ⇷ ⇸\n",
      "Шифр найденный : Е Ш Г Н Я И М Т Б К В   Й Щ Ь Ы Д Ф Л У О Ч С Р З А П Э Х Ю Ж Ъ Ц\n"
     ]
    }
   ],
   "source": [
    "print(f\"Алфавит        : {' '.join(code_alphabet[:-5])}\")\n",
    "print(f\"Шифр найденный : {' '.join([decoding_dict_tsk4[i] for i in code_alphabet[:]]).upper()}\")"
   ]
  }
 ],
 "metadata": {
  "kernelspec": {
   "display_name": "Python 3",
   "language": "python",
   "name": "python3"
  },
  "language_info": {
   "codemirror_mode": {
    "name": "ipython",
    "version": 3
   },
   "file_extension": ".py",
   "mimetype": "text/x-python",
   "name": "python",
   "nbconvert_exporter": "python",
   "pygments_lexer": "ipython3",
   "version": "3.8.3"
  }
 },
 "nbformat": 4,
 "nbformat_minor": 4
}
