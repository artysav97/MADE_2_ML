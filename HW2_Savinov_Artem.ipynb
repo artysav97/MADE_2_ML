{
 "cells": [
  {
   "cell_type": "code",
   "execution_count": 1,
   "metadata": {},
   "outputs": [
    {
     "name": "stderr",
     "output_type": "stream",
     "text": [
      "C:\\Users\\artys\\anaconda3\\lib\\site-packages\\sklearn\\utils\\deprecation.py:143: FutureWarning: The sklearn.utils.testing module is  deprecated in version 0.22 and will be removed in version 0.24. The corresponding classes / functions should instead be imported from sklearn.utils. Anything that cannot be imported from sklearn.utils is now part of the private API.\n",
      "  warnings.warn(message, FutureWarning)\n"
     ]
    }
   ],
   "source": [
    "import numpy as np\n",
    "import pandas as pd\n",
    "from matplotlib import pyplot as plt\n",
    "\n",
    "from sklearn.linear_model import LinearRegression, LogisticRegression\n",
    "from IPython.display import clear_output\n",
    "from datetime import datetime\n",
    "\n",
    "import matplotlib as mpl\n",
    "import matplotlib.pyplot as plt\n",
    "import seaborn as sns\n",
    "import json\n",
    "import numpy as np\n",
    "import scipy as sp\n",
    "import scipy.stats as st\n",
    "import scipy.integrate as integrate\n",
    "from sklearn import linear_model\n",
    "from scipy.stats import multivariate_normal\n",
    "from sklearn.utils.testing import ignore_warnings\n",
    "from sklearn.exceptions import ConvergenceWarning\n",
    "import statsmodels.api as sm\n",
    "\n",
    "from sklearn.preprocessing import OneHotEncoder\n",
    "from scipy.sparse import csr_matrix, hstack\n",
    "\n",
    "import pickle, json\n",
    "from scipy.stats import spearmanr, kendalltau\n",
    "\n",
    "from scipy.optimize import fmin_tnc\n",
    "\n",
    "import warnings\n",
    "warnings.filterwarnings(\"ignore\")"
   ]
  },
  {
   "cell_type": "code",
   "execution_count": 2,
   "metadata": {},
   "outputs": [
    {
     "name": "stdout",
     "output_type": "stream",
     "text": [
      "Wall time: 16.4 s\n"
     ]
    }
   ],
   "source": [
    "%%time\n",
    "with open(\"chgk/tournaments.pkl\", \"rb\") as f:\n",
    "    tournaments = pickle.load(f)\n",
    "with open(\"chgk/results.pkl\", \"rb\") as f:\n",
    "    results = pickle.load(f)\n",
    "with open(\"chgk/players.pkl\", \"rb\") as f:\n",
    "    players = pickle.load(f)"
   ]
  },
  {
   "cell_type": "markdown",
   "metadata": {},
   "source": [
    "# Задание 1"
   ]
  },
  {
   "cell_type": "markdown",
   "metadata": {},
   "source": [
    "Прочитайте и проанализируйте данные, выберите турниры, в которых есть данные о составах команд и повопросных результатах (поле mask в results.pkl). Для унификации предлагаю:\n",
    "- взять в тренировочный набор турниры с dateStart из 2019 года; \n",
    "- в тестовый — турниры с dateStart из 2020 года."
   ]
  },
  {
   "cell_type": "markdown",
   "metadata": {},
   "source": [
    "## Решение\n",
    "    Оставляем турниры, у которых есть информация о составах команд и есть информация об ответах команд на вопросы\n",
    "    Вопросы с отметкой X удаляются из выборки, вопросы с отметкой ? меняются на 0"
   ]
  },
  {
   "cell_type": "code",
   "execution_count": 3,
   "metadata": {},
   "outputs": [],
   "source": [
    "def has_teamMembers_and_mask(tournament):\n",
    "    flg = True\n",
    "    for team in tournament:\n",
    "        if (len(team['teamMembers']) == 0) or (team.get('mask') is None):\n",
    "            flg = False\n",
    "    return flg"
   ]
  },
  {
   "cell_type": "code",
   "execution_count": 4,
   "metadata": {},
   "outputs": [
    {
     "name": "stdout",
     "output_type": "stream",
     "text": [
      "Wall time: 296 ms\n"
     ]
    }
   ],
   "source": [
    "%%time\n",
    "# поправка на наличие инфо о составе и ответах по вопросам\n",
    "results_corrected  = [i for i in results.keys() if has_teamMembers_and_mask(results[i])]"
   ]
  },
  {
   "cell_type": "code",
   "execution_count": 5,
   "metadata": {},
   "outputs": [
    {
     "name": "stdout",
     "output_type": "stream",
     "text": [
      "Количество чемпионатов в TRAIN : 657\n",
      "Количество чемпионатов в TEST : 386\n",
      "Wall time: 663 ms\n"
     ]
    }
   ],
   "source": [
    "%%time\n",
    "# Делим чемпионаты на train (2019 год) и test (2020 год)\n",
    "train_tournaments_labels = []\n",
    "test_tournaments_labels = []\n",
    "for i in tournaments.keys():\n",
    "    if i in results_corrected:\n",
    "        if tournaments[i]['dateStart'][:4] == '2019':\n",
    "            train_tournaments_labels.append(i)\n",
    "        elif tournaments[i]['dateStart'][:4] == '2020':\n",
    "            test_tournaments_labels.append(i)\n",
    "            \n",
    "print('Количество чемпионатов в TRAIN :', len(train_tournaments_labels))\n",
    "print('Количество чемпионатов в TEST :', len(test_tournaments_labels))"
   ]
  },
  {
   "cell_type": "code",
   "execution_count": 6,
   "metadata": {},
   "outputs": [],
   "source": [
    "def to_int(x):\n",
    "    try:\n",
    "        return int(x)\n",
    "    except:\n",
    "        return 0"
   ]
  },
  {
   "cell_type": "code",
   "execution_count": 7,
   "metadata": {},
   "outputs": [
    {
     "name": "stdout",
     "output_type": "stream",
     "text": [
      "Wall time: 54.1 s\n"
     ]
    }
   ],
   "source": [
    "%%time\n",
    "# Вопросы с отметкой X удаляются из выборки, вопросы с отметкой ? меняются на 0\n",
    "data = {\n",
    "    'tournament_id': [],\n",
    "    'tournament_name': [],\n",
    "    'team_id': [],\n",
    "    'player_id': [],\n",
    "    'player_name': [],\n",
    "    'player_surname': [],\n",
    "    'question_num': [],\n",
    "    'question_result': []\n",
    "}\n",
    "\n",
    "for i in train_tournaments_labels:\n",
    "    for team in results[i]:\n",
    "        for player in team['teamMembers']:\n",
    "            for question_num in range(len(team['mask'])):\n",
    "                if team['mask'][question_num] != 'X':\n",
    "                    data['tournament_id'].append(tournaments[i]['id'])\n",
    "                    data['tournament_name'].append(tournaments[i]['name'])\n",
    "                    data['team_id'].append(team['team']['id'])\n",
    "                    data['player_id'].append(player['player']['id'])\n",
    "                    data['player_name'].append(player['player']['name'])\n",
    "                    data['player_surname'].append(player['player']['surname'])\n",
    "                    data['question_num'].append(question_num)\n",
    "                    data['question_result'].append(to_int(team['mask'][question_num]))\n",
    "                \n",
    "                \n",
    "data_train = pd.DataFrame.from_dict(data)"
   ]
  },
  {
   "cell_type": "markdown",
   "metadata": {},
   "source": [
    "# Задание 2"
   ]
  },
  {
   "cell_type": "markdown",
   "metadata": {},
   "source": [
    "Постройте baseline-модель на основе линейной или логистической регрессии, которая будет обучать рейтинг-лист игроков. Замечания и подсказки:\n",
    "- повопросные результаты — это фактически результаты броска монетки, и их предсказание скорее всего имеет отношение к бинарной классификации;\n",
    "- в разных турнирах вопросы совсем разного уровня сложности, поэтому модель должна это учитывать; скорее всего, модель должна будет явно обучать не только силу каждого игрока, но и сложность каждого вопроса;\n",
    "- для baseline-модели можно забыть о командах и считать, что повопросные результаты команды просто относятся к каждому из её игроков.\n"
   ]
  },
  {
   "cell_type": "markdown",
   "metadata": {},
   "source": [
    "## Решение\n",
    "    Соберем следующий набор признаков:\n",
    "    - Доля команд, участвующая в турнире\n",
    "    - Среднее количество ответов на турнире\n",
    "    - Среднее количество ответов на вопрос на турнире\n",
    "    - Среднее количество ответов игроком (в составе команды) за все время\n",
    "    \n",
    "    В качестве baseline модели будем использовать логистическую регерессию, обученную на одном атрибуте - среднее количество ответов на вопрос, среднее количество ответов одного игрока и среднее количество правильных ответов по всем игрокам\n",
    "    \n",
    "    Таблица рейтинга игроков формируется следующим образом: по каждому игроку считается сумма вероятностей ответа игроком на вопрос"
   ]
  },
  {
   "cell_type": "code",
   "execution_count": 8,
   "metadata": {},
   "outputs": [],
   "source": [
    "data_train = data_train.merge((data_train.groupby('tournament_id')['team_id'].nunique()/data_train['team_id'].nunique()).to_frame('teams_qnt_rate').reset_index(), on='tournament_id', how='left')\n",
    "data_train = data_train.merge(data_train.groupby('tournament_id')['question_result'].mean().to_frame('mean_tournament_answered').reset_index(), on='tournament_id', how='left')\n",
    "data_train = data_train.merge(data_train.groupby(['tournament_id', 'question_num'])['question_result'].mean().to_frame('question_dificulty').reset_index(), on=['tournament_id', 'question_num'], how='left')\n",
    "data_train = data_train.merge(data_train.groupby(['tournament_id', 'player_id'])['question_result'].mean().to_frame('player_strength').reset_index(), on=['tournament_id', 'player_id'], how='left')"
   ]
  },
  {
   "cell_type": "code",
   "execution_count": 9,
   "metadata": {},
   "outputs": [
    {
     "data": {
      "text/html": [
       "<div>\n",
       "<style scoped>\n",
       "    .dataframe tbody tr th:only-of-type {\n",
       "        vertical-align: middle;\n",
       "    }\n",
       "\n",
       "    .dataframe tbody tr th {\n",
       "        vertical-align: top;\n",
       "    }\n",
       "\n",
       "    .dataframe thead th {\n",
       "        text-align: right;\n",
       "    }\n",
       "</style>\n",
       "<table border=\"1\" class=\"dataframe\">\n",
       "  <thead>\n",
       "    <tr style=\"text-align: right;\">\n",
       "      <th></th>\n",
       "      <th>tournament_id</th>\n",
       "      <th>tournament_name</th>\n",
       "      <th>team_id</th>\n",
       "      <th>player_id</th>\n",
       "      <th>player_name</th>\n",
       "      <th>player_surname</th>\n",
       "      <th>question_num</th>\n",
       "      <th>question_result</th>\n",
       "      <th>teams_qnt_rate</th>\n",
       "      <th>mean_tournament_answered</th>\n",
       "      <th>question_dificulty</th>\n",
       "      <th>player_strength</th>\n",
       "    </tr>\n",
       "  </thead>\n",
       "  <tbody>\n",
       "    <tr>\n",
       "      <th>0</th>\n",
       "      <td>4772</td>\n",
       "      <td>Синхрон северных стран. Зимний выпуск</td>\n",
       "      <td>45556</td>\n",
       "      <td>6212</td>\n",
       "      <td>Юрий</td>\n",
       "      <td>Выменец</td>\n",
       "      <td>0</td>\n",
       "      <td>1</td>\n",
       "      <td>0.021079</td>\n",
       "      <td>0.475605</td>\n",
       "      <td>0.892295</td>\n",
       "      <td>0.777778</td>\n",
       "    </tr>\n",
       "    <tr>\n",
       "      <th>1</th>\n",
       "      <td>4772</td>\n",
       "      <td>Синхрон северных стран. Зимний выпуск</td>\n",
       "      <td>45556</td>\n",
       "      <td>6212</td>\n",
       "      <td>Юрий</td>\n",
       "      <td>Выменец</td>\n",
       "      <td>1</td>\n",
       "      <td>1</td>\n",
       "      <td>0.021079</td>\n",
       "      <td>0.475605</td>\n",
       "      <td>0.776305</td>\n",
       "      <td>0.777778</td>\n",
       "    </tr>\n",
       "    <tr>\n",
       "      <th>2</th>\n",
       "      <td>4772</td>\n",
       "      <td>Синхрон северных стран. Зимний выпуск</td>\n",
       "      <td>45556</td>\n",
       "      <td>6212</td>\n",
       "      <td>Юрий</td>\n",
       "      <td>Выменец</td>\n",
       "      <td>2</td>\n",
       "      <td>1</td>\n",
       "      <td>0.021079</td>\n",
       "      <td>0.475605</td>\n",
       "      <td>0.463132</td>\n",
       "      <td>0.777778</td>\n",
       "    </tr>\n",
       "    <tr>\n",
       "      <th>3</th>\n",
       "      <td>4772</td>\n",
       "      <td>Синхрон северных стран. Зимний выпуск</td>\n",
       "      <td>45556</td>\n",
       "      <td>6212</td>\n",
       "      <td>Юрий</td>\n",
       "      <td>Выменец</td>\n",
       "      <td>3</td>\n",
       "      <td>1</td>\n",
       "      <td>0.021079</td>\n",
       "      <td>0.475605</td>\n",
       "      <td>0.541839</td>\n",
       "      <td>0.777778</td>\n",
       "    </tr>\n",
       "    <tr>\n",
       "      <th>4</th>\n",
       "      <td>4772</td>\n",
       "      <td>Синхрон северных стран. Зимний выпуск</td>\n",
       "      <td>45556</td>\n",
       "      <td>6212</td>\n",
       "      <td>Юрий</td>\n",
       "      <td>Выменец</td>\n",
       "      <td>4</td>\n",
       "      <td>1</td>\n",
       "      <td>0.021079</td>\n",
       "      <td>0.475605</td>\n",
       "      <td>0.888981</td>\n",
       "      <td>0.777778</td>\n",
       "    </tr>\n",
       "  </tbody>\n",
       "</table>\n",
       "</div>"
      ],
      "text/plain": [
       "   tournament_id                        tournament_name  team_id  player_id  \\\n",
       "0           4772  Синхрон северных стран. Зимний выпуск    45556       6212   \n",
       "1           4772  Синхрон северных стран. Зимний выпуск    45556       6212   \n",
       "2           4772  Синхрон северных стран. Зимний выпуск    45556       6212   \n",
       "3           4772  Синхрон северных стран. Зимний выпуск    45556       6212   \n",
       "4           4772  Синхрон северных стран. Зимний выпуск    45556       6212   \n",
       "\n",
       "  player_name player_surname  question_num  question_result  teams_qnt_rate  \\\n",
       "0        Юрий        Выменец             0                1        0.021079   \n",
       "1        Юрий        Выменец             1                1        0.021079   \n",
       "2        Юрий        Выменец             2                1        0.021079   \n",
       "3        Юрий        Выменец             3                1        0.021079   \n",
       "4        Юрий        Выменец             4                1        0.021079   \n",
       "\n",
       "   mean_tournament_answered  question_dificulty  player_strength  \n",
       "0                  0.475605            0.892295         0.777778  \n",
       "1                  0.475605            0.776305         0.777778  \n",
       "2                  0.475605            0.463132         0.777778  \n",
       "3                  0.475605            0.541839         0.777778  \n",
       "4                  0.475605            0.888981         0.777778  "
      ]
     },
     "execution_count": 9,
     "metadata": {},
     "output_type": "execute_result"
    }
   ],
   "source": [
    "data_train.head()"
   ]
  },
  {
   "cell_type": "code",
   "execution_count": 10,
   "metadata": {},
   "outputs": [],
   "source": [
    "# Формируем выборки для обучения модели\n",
    "X_train = (data_train['question_dificulty'] + data_train['player_strength'] + data_train['question_result'].mean()).values\n",
    "X_train = X_train.reshape(-1, 1)\n",
    "X_train = np.append(X_train, np.ones((X_train.shape[0], 1)), axis=1)\n",
    "y_train = data_train['question_result'].values\n",
    "y_train = y_train.reshape(-1, 1)"
   ]
  },
  {
   "cell_type": "code",
   "execution_count": 11,
   "metadata": {},
   "outputs": [
    {
     "name": "stdout",
     "output_type": "stream",
     "text": [
      "Wall time: 19 s\n"
     ]
    },
    {
     "data": {
      "text/plain": [
       "LogisticRegression()"
      ]
     },
     "execution_count": 11,
     "metadata": {},
     "output_type": "execute_result"
    }
   ],
   "source": [
    "%%time\n",
    "# Обучаем модель\n",
    "model = LogisticRegression(solver = 'lbfgs')\n",
    "model.fit(X_train[:, 0].reshape(-1, 1), y_train)"
   ]
  },
  {
   "cell_type": "code",
   "execution_count": 12,
   "metadata": {},
   "outputs": [],
   "source": [
    "# Функция для формирования рейтинга игроков\n",
    "def calc_rating(prediction, player_rating_table=None, rating_name='rating'):\n",
    "    \n",
    "    temp_player_rating = data_train['player_id'].to_frame().copy()\n",
    "    temp_player_rating['probability'] = prediction\n",
    "    temp_player_rating = temp_player_rating.groupby('player_id')['probability'].sum().to_frame(rating_name).reset_index()\n",
    "    \n",
    "    if player_rating_table is None:\n",
    "        player_rating_table = temp_player_rating\n",
    "    else:\n",
    "        if rating_name in player_rating_table.columns:\n",
    "            player_rating_table[rating_name] = temp_player_rating[rating_name]\n",
    "        else:\n",
    "            player_rating_table = player_rating_table.merge(temp_player_rating, how='left', on='player_id')\n",
    "        \n",
    "    return player_rating_table"
   ]
  },
  {
   "cell_type": "markdown",
   "metadata": {},
   "source": [
    "Топ самых сильных игроков"
   ]
  },
  {
   "cell_type": "code",
   "execution_count": 13,
   "metadata": {},
   "outputs": [
    {
     "data": {
      "text/html": [
       "<div>\n",
       "<style scoped>\n",
       "    .dataframe tbody tr th:only-of-type {\n",
       "        vertical-align: middle;\n",
       "    }\n",
       "\n",
       "    .dataframe tbody tr th {\n",
       "        vertical-align: top;\n",
       "    }\n",
       "\n",
       "    .dataframe thead th {\n",
       "        text-align: right;\n",
       "    }\n",
       "</style>\n",
       "<table border=\"1\" class=\"dataframe\">\n",
       "  <thead>\n",
       "    <tr style=\"text-align: right;\">\n",
       "      <th></th>\n",
       "      <th>player_id</th>\n",
       "      <th>rating</th>\n",
       "      <th>player_name</th>\n",
       "      <th>player_surname</th>\n",
       "    </tr>\n",
       "  </thead>\n",
       "  <tbody>\n",
       "    <tr>\n",
       "      <th>11749</th>\n",
       "      <td>110920</td>\n",
       "      <td>4511.166380</td>\n",
       "      <td>Алексей</td>\n",
       "      <td>Дворянчиков</td>\n",
       "    </tr>\n",
       "    <tr>\n",
       "      <th>14741</th>\n",
       "      <td>131908</td>\n",
       "      <td>4457.825563</td>\n",
       "      <td>Иван</td>\n",
       "      <td>Киселёв</td>\n",
       "    </tr>\n",
       "    <tr>\n",
       "      <th>2897</th>\n",
       "      <td>20640</td>\n",
       "      <td>4409.243184</td>\n",
       "      <td>Ольга</td>\n",
       "      <td>Мельникова</td>\n",
       "    </tr>\n",
       "    <tr>\n",
       "      <th>17507</th>\n",
       "      <td>147450</td>\n",
       "      <td>4383.779235</td>\n",
       "      <td>Максим</td>\n",
       "      <td>Салихов</td>\n",
       "    </tr>\n",
       "    <tr>\n",
       "      <th>1724</th>\n",
       "      <td>12511</td>\n",
       "      <td>4266.665701</td>\n",
       "      <td>Константин</td>\n",
       "      <td>Ильин</td>\n",
       "    </tr>\n",
       "    <tr>\n",
       "      <th>12688</th>\n",
       "      <td>117262</td>\n",
       "      <td>3971.888631</td>\n",
       "      <td>Сергей</td>\n",
       "      <td>Черкасов</td>\n",
       "    </tr>\n",
       "    <tr>\n",
       "      <th>3843</th>\n",
       "      <td>27499</td>\n",
       "      <td>3844.373831</td>\n",
       "      <td>Наталия</td>\n",
       "      <td>Рыжанова</td>\n",
       "    </tr>\n",
       "    <tr>\n",
       "      <th>3729</th>\n",
       "      <td>26640</td>\n",
       "      <td>3833.821710</td>\n",
       "      <td>Вадим</td>\n",
       "      <td>Раскумандрин</td>\n",
       "    </tr>\n",
       "    <tr>\n",
       "      <th>17965</th>\n",
       "      <td>149724</td>\n",
       "      <td>3816.944492</td>\n",
       "      <td>Дмитрий</td>\n",
       "      <td>Пелихов</td>\n",
       "    </tr>\n",
       "    <tr>\n",
       "      <th>9040</th>\n",
       "      <td>85059</td>\n",
       "      <td>3713.230393</td>\n",
       "      <td>Ева</td>\n",
       "      <td>Берг</td>\n",
       "    </tr>\n",
       "  </tbody>\n",
       "</table>\n",
       "</div>"
      ],
      "text/plain": [
       "       player_id       rating player_name player_surname\n",
       "11749     110920  4511.166380     Алексей    Дворянчиков\n",
       "14741     131908  4457.825563        Иван        Киселёв\n",
       "2897       20640  4409.243184       Ольга     Мельникова\n",
       "17507     147450  4383.779235      Максим        Салихов\n",
       "1724       12511  4266.665701  Константин          Ильин\n",
       "12688     117262  3971.888631      Сергей       Черкасов\n",
       "3843       27499  3844.373831     Наталия       Рыжанова\n",
       "3729       26640  3833.821710       Вадим   Раскумандрин\n",
       "17965     149724  3816.944492     Дмитрий        Пелихов\n",
       "9040       85059  3713.230393         Ева           Берг"
      ]
     },
     "execution_count": 13,
     "metadata": {},
     "output_type": "execute_result"
    }
   ],
   "source": [
    "player_rating = calc_rating(model.predict_proba(X_train[:, 0].reshape(-1, 1))[:, 1], player_rating_table=None)\n",
    "player_rating.merge(data_train[['player_id', 'player_name', 'player_surname']].drop_duplicates(), on='player_id', how='left').sort_values('rating', ascending=False).head(10)"
   ]
  },
  {
   "cell_type": "markdown",
   "metadata": {},
   "source": [
    "# Задание 3"
   ]
  },
  {
   "cell_type": "markdown",
   "metadata": {},
   "source": [
    "Качество рейтинг-системы оценивается качеством предсказаний результатов турниров. Но сами повопросные результаты наши модели предсказывать вряд ли смогут, ведь неизвестно, насколько сложными окажутся вопросы в будущих турнирах; да и не нужны эти предсказания сами по себе. Поэтому:\n",
    "- предложите способ предсказать результаты нового турнира с известными составами, но неизвестными вопросами, в виде ранжирования команд;\n",
    "- в качестве метрики качества на тестовом наборе давайте считать ранговые корреляции Спирмена и Кендалла (их можно взять в пакете scipy) между реальным ранжированием в результатах турнира и предсказанным моделью, усреднённые по тестовому множеству турниров.\n"
   ]
  },
  {
   "cell_type": "markdown",
   "metadata": {},
   "source": [
    "## Решение\n",
    "Рейтинг команды будем оценивать, как сумма рейтингов участников команды"
   ]
  },
  {
   "cell_type": "code",
   "execution_count": 14,
   "metadata": {},
   "outputs": [
    {
     "name": "stdout",
     "output_type": "stream",
     "text": [
      "Wall time: 763 ms\n"
     ]
    }
   ],
   "source": [
    "%%time\n",
    "# Обработка тестовой выборки - чемпионаты 2020\n",
    "# Вопросы с отметкой X удаляются из выборки, вопросы с отметкой ? меняются на 0\n",
    "data = {\n",
    "    'tournament_id': [],\n",
    "    'tournament_name': [],\n",
    "    'team_id': [],\n",
    "    'player_id': [],\n",
    "    'position' : [],\n",
    "}\n",
    "\n",
    "for i in test_tournaments_labels:\n",
    "    for team in results[i]:\n",
    "        for player in team['teamMembers']:\n",
    "            data['tournament_id'].append(tournaments[i]['id'])\n",
    "            data['tournament_name'].append(tournaments[i]['name'])\n",
    "            data['team_id'].append(team['team']['id'])\n",
    "            data['player_id'].append(player['player']['id'])\n",
    "            data['position'].append(int(team['position']))\n",
    "                                \n",
    "data_test = pd.DataFrame.from_dict(data)"
   ]
  },
  {
   "cell_type": "code",
   "execution_count": 15,
   "metadata": {},
   "outputs": [],
   "source": [
    "# Функция для проверки качества рейтингования игроков на тестовом наборе данных\n",
    "def check_quality(test_df, rating_df, rating_name):\n",
    "    \n",
    "    test_df = test_df.merge(rating_df, on='player_id', how='left')\n",
    "    test_df[rating_name] = test_df[rating_name].fillna(0)\n",
    "    data_test_grouped = test_df.groupby(['tournament_id', 'team_id', 'position'])[rating_name].sum().to_frame().reset_index()\n",
    "\n",
    "    spearmanr_list = []\n",
    "    kendalltau_list = []\n",
    "\n",
    "    for i in data_test_grouped['tournament_id'].drop_duplicates():\n",
    "        temp = data_test_grouped[data_test_grouped['tournament_id']==i]\n",
    "        if temp.shape[0] > 1:\n",
    "            spearmanr_value, _ = spearmanr(temp['position'], temp[rating_name])\n",
    "            kendalltau_value, _ = kendalltau(temp['position'], temp[rating_name])\n",
    "            spearmanr_list.append(spearmanr_value)\n",
    "            kendalltau_list.append(kendalltau_value)\n",
    "\n",
    "    return np.mean(spearmanr_list), np.mean(kendalltau_list)"
   ]
  },
  {
   "cell_type": "code",
   "execution_count": 16,
   "metadata": {},
   "outputs": [
    {
     "name": "stdout",
     "output_type": "stream",
     "text": [
      "Корреляция Спирмана: -0.6757990629387767\n",
      "Корреляция Кендала: -0.5157142603613002\n"
     ]
    }
   ],
   "source": [
    "# Проверка качества: средняя корреляция Спирмена и Кендала\n",
    "spearman, kendal = check_quality(test_df=data_test.copy(), \n",
    "                                 rating_df=player_rating.copy(), \n",
    "                                 rating_name='rating')\n",
    "print('Корреляция Спирмана:', spearman)\n",
    "print('Корреляция Кендала:', kendal)"
   ]
  },
  {
   "cell_type": "markdown",
   "metadata": {},
   "source": [
    "# Задание 4"
   ]
  },
  {
   "cell_type": "markdown",
   "metadata": {},
   "source": [
    "Теперь главное: ЧГК — это всё-таки командная игра. Поэтому:\n",
    "- предложите способ учитывать то, что на вопрос отвечают сразу несколько игроков; скорее всего, понадобятся скрытые переменные; не стесняйтесь делать упрощающие предположения, но теперь переменные “игрок X ответил на вопрос Y” при условии данных должны стать зависимыми для игроков одной и той же команды;\n",
    "- разработайте EM-схему для обучения этой модели, реализуйте её в коде;\n",
    "- обучите несколько итераций, убедитесь, что целевые метрики со временем растут (скорее всего, ненамного, но расти должны), выберите лучшую модель, используя целевые метрики.\n"
   ]
  },
  {
   "cell_type": "markdown",
   "metadata": {},
   "source": [
    "## Решение\n",
    "    Основное предположение: \n",
    "    - если команда не ответила на вопрос, значит ни один из игроков не ответил на вопрос\n",
    "    - если команда отвтеила на вопрос, значит хотя бы один игрок команды ответил на вопрос\n",
    "    \n",
    "    EM-алгоритм будет состоять в следующем:\n",
    "    - введем скрытую переменную z - игрок ответил на вопрос\n",
    "    - на M-шаге мы фиксируем текущие значения z для игроков и обучаем логистическую регрессию\n",
    "    - на Е-шаге мы прогнозируем новые вероятности z для игроков, а также делаем корректировку этих вероятностей:\n",
    "        - если команда не ответила на вопрос (y==0), то z = 0\n",
    "        - если команда ответила на вопрос (у==1), то z = z / вероятность того, что хотя бы один игрок из команды ответил на этот вопрос"
   ]
  },
  {
   "cell_type": "code",
   "execution_count": 17,
   "metadata": {},
   "outputs": [],
   "source": [
    "# Функции, реализующие логистическую регрессию, которая может обрабатывать нецелые значения в качестве целевого события\n",
    "def sigmoid(x):\n",
    "    # Activation function used to map any real value between 0 and 1\n",
    "    return 1 / (1 + np.exp(-x))\n",
    "\n",
    "def net_input(theta, x):\n",
    "    # Computes the weighted sum of inputs\n",
    "    return np.dot(x, theta)\n",
    "\n",
    "def probability(theta, x):\n",
    "    # Returns the probability after passing through sigmoid\n",
    "    return sigmoid(net_input(theta, x))\n",
    "\n",
    "def cost_function(theta, x, y):\n",
    "    # Computes the cost function for all the training samples\n",
    "    m = x.shape[0]\n",
    "    total_cost = -(1 / m) * np.sum(\n",
    "        y * np.log(probability(theta, x)) + (1 - y) * np.log(\n",
    "            1 - probability(theta, x)))\n",
    "    return total_cost\n",
    "\n",
    "def gradient(theta, x, y):\n",
    "    # Computes the gradient of the cost function at the point theta\n",
    "    m = x.shape[0]\n",
    "    return (1 / m) * np.dot(x.T, sigmoid(net_input(theta,   x)) - y)\n",
    "\n",
    "def fit(x, y, theta):\n",
    "    opt_weights = fmin_tnc(func=cost_function, x0=theta,\n",
    "                  fprime=gradient,args=(x, y.flatten()))\n",
    "    return opt_weights[0]"
   ]
  },
  {
   "cell_type": "code",
   "execution_count": 18,
   "metadata": {},
   "outputs": [],
   "source": [
    "def em_step(X_train, y_train, z_train=None, write_rating_to=player_rating, rating_name='rating_new'):\n",
    "    \n",
    "    # только для первого шага\n",
    "    if z_train is None:\n",
    "        z_train = y_train.copy()\n",
    "    \n",
    "    # для всех остальных шагов, включая первый\n",
    "    theta = np.zeros((X_train.shape[1], 1))\n",
    "    parameters = fit(X_train, z_train, theta)\n",
    "    \n",
    "    parameters[1] = parameters[1] + np.log((pi * n_u) / (n_0 + pi * n_u))\n",
    "    \n",
    "    z_pred = probability(parameters, X_train)\n",
    "    \n",
    "    # Для правильных ответов на вопрос с учетом того, что хотя бы один человек из команды ответил\n",
    "    temp_data_train = data_train.copy()\n",
    "    temp_data_train['1_minus_z_pred'] = np.ones((temp_data_train.shape[0], 1)) - np.random.uniform(0, 1, (temp_data_train.shape[0], 1))\n",
    "    temp_data_train_gr = temp_data_train.groupby(['tournament_id', 'team_id', 'question_num']).agg({'1_minus_z_pred':np.prod}).reset_index().rename(columns={'1_minus_z_pred':'1_minus_z_pred_multi'})\n",
    "    temp_data_train = temp_data_train.merge(temp_data_train_gr, \n",
    "                                            how='left',\n",
    "                                            on=['tournament_id', 'team_id', 'question_num']\n",
    "                                           )\n",
    "    z_pred = (z_pred / (1 - temp_data_train['1_minus_z_pred_multi'])).values\n",
    "    \n",
    "    # Для тех вопросов на которые команда не ответила\n",
    "    z_pred[y_train.flatten()==0] = 0\n",
    "    \n",
    "    write_rating_to = calc_rating(prediction = z_pred, player_rating_table=write_rating_to, rating_name=rating_name)\n",
    "    \n",
    "    return z_pred, parameters, write_rating_to"
   ]
  },
  {
   "cell_type": "code",
   "execution_count": 19,
   "metadata": {},
   "outputs": [],
   "source": [
    "pi = 0.1 # p(z==1)\n",
    "n_0 = len(data_train['question_result'])-sum(data_train['question_result'])\n",
    "n_u = sum(data_train['question_result'])"
   ]
  },
  {
   "cell_type": "code",
   "execution_count": 20,
   "metadata": {},
   "outputs": [
    {
     "name": "stdout",
     "output_type": "stream",
     "text": [
      "Шаг 1\n",
      "Корреляция Спирмана: -0.715325343237144\n",
      "Корреляция Кендала: -0.5528567004374216\n",
      "\n",
      "Шаг 2\n",
      "Корреляция Спирмана: -0.7258449545000236\n",
      "Корреляция Кендала: -0.5619431485594815\n",
      "\n",
      "Шаг 3\n",
      "Корреляция Спирмана: -0.7274012481840572\n",
      "Корреляция Кендала: -0.5639051936855034\n",
      "\n",
      "Wall time: 3min 28s\n"
     ]
    }
   ],
   "source": [
    "%%time\n",
    "# Выведем корреляцию рейтинга команд и спрогнозированный рейтинг команд после каждого шага EM-алгоритма\n",
    "N = 3\n",
    "for step_number in range(N):\n",
    "    \n",
    "    if step_number == 0:\n",
    "        # первый шаг\n",
    "        z_new, coefs, player_rating = em_step(X_train=X_train.copy(), \n",
    "                                              y_train=y_train.copy(), \n",
    "                                              z_train=None,\n",
    "                                              write_rating_to = player_rating,\n",
    "                                              rating_name='rating_new'\n",
    "                                             )\n",
    "    else:\n",
    "        # все остальные шаги\n",
    "        z_new, coefs, player_rating = em_step(X_train=X_train.copy(), \n",
    "                                      y_train=y_train.copy(), \n",
    "                                      z_train=z_new.copy(),\n",
    "                                      write_rating_to = player_rating,\n",
    "                                      rating_name='rating_new'\n",
    "                                     )\n",
    "\n",
    "    \n",
    "    # Проверка качества: средняя корреляция Спирмена и Кендала\n",
    "    spearman, kendal = check_quality(test_df=data_test.copy(), \n",
    "                                     rating_df=player_rating.copy(), \n",
    "                                     rating_name='rating_new')\n",
    "    print('Шаг', step_number+1)\n",
    "    print('Корреляция Спирмана:', spearman)\n",
    "    print('Корреляция Кендала:', kendal)\n",
    "    print()"
   ]
  },
  {
   "cell_type": "markdown",
   "metadata": {},
   "source": [
    "Обновленный рейтинг игроков"
   ]
  },
  {
   "cell_type": "code",
   "execution_count": 21,
   "metadata": {},
   "outputs": [
    {
     "data": {
      "text/html": [
       "<div>\n",
       "<style scoped>\n",
       "    .dataframe tbody tr th:only-of-type {\n",
       "        vertical-align: middle;\n",
       "    }\n",
       "\n",
       "    .dataframe tbody tr th {\n",
       "        vertical-align: top;\n",
       "    }\n",
       "\n",
       "    .dataframe thead th {\n",
       "        text-align: right;\n",
       "    }\n",
       "</style>\n",
       "<table border=\"1\" class=\"dataframe\">\n",
       "  <thead>\n",
       "    <tr style=\"text-align: right;\">\n",
       "      <th></th>\n",
       "      <th>player_id</th>\n",
       "      <th>rating_new</th>\n",
       "      <th>player_name</th>\n",
       "      <th>player_surname</th>\n",
       "    </tr>\n",
       "  </thead>\n",
       "  <tbody>\n",
       "    <tr>\n",
       "      <th>4201</th>\n",
       "      <td>30152</td>\n",
       "      <td>24.993722</td>\n",
       "      <td>Артём</td>\n",
       "      <td>Сорожкин</td>\n",
       "    </tr>\n",
       "    <tr>\n",
       "      <th>4013</th>\n",
       "      <td>28751</td>\n",
       "      <td>20.801037</td>\n",
       "      <td>Иван</td>\n",
       "      <td>Семушин</td>\n",
       "    </tr>\n",
       "    <tr>\n",
       "      <th>11749</th>\n",
       "      <td>110920</td>\n",
       "      <td>20.498244</td>\n",
       "      <td>Алексей</td>\n",
       "      <td>Дворянчиков</td>\n",
       "    </tr>\n",
       "    <tr>\n",
       "      <th>978</th>\n",
       "      <td>7008</td>\n",
       "      <td>19.081863</td>\n",
       "      <td>Алексей</td>\n",
       "      <td>Гилёв</td>\n",
       "    </tr>\n",
       "    <tr>\n",
       "      <th>4221</th>\n",
       "      <td>30270</td>\n",
       "      <td>18.958365</td>\n",
       "      <td>Сергей</td>\n",
       "      <td>Спешков</td>\n",
       "    </tr>\n",
       "    <tr>\n",
       "      <th>14741</th>\n",
       "      <td>131908</td>\n",
       "      <td>18.261247</td>\n",
       "      <td>Иван</td>\n",
       "      <td>Киселёв</td>\n",
       "    </tr>\n",
       "    <tr>\n",
       "      <th>3843</th>\n",
       "      <td>27499</td>\n",
       "      <td>18.055412</td>\n",
       "      <td>Наталия</td>\n",
       "      <td>Рыжанова</td>\n",
       "    </tr>\n",
       "    <tr>\n",
       "      <th>1724</th>\n",
       "      <td>12511</td>\n",
       "      <td>17.735158</td>\n",
       "      <td>Константин</td>\n",
       "      <td>Ильин</td>\n",
       "    </tr>\n",
       "    <tr>\n",
       "      <th>1698</th>\n",
       "      <td>12313</td>\n",
       "      <td>17.547570</td>\n",
       "      <td>Сергей</td>\n",
       "      <td>Иванченко</td>\n",
       "    </tr>\n",
       "    <tr>\n",
       "      <th>597</th>\n",
       "      <td>4270</td>\n",
       "      <td>16.569877</td>\n",
       "      <td>Александра</td>\n",
       "      <td>Брутер</td>\n",
       "    </tr>\n",
       "  </tbody>\n",
       "</table>\n",
       "</div>"
      ],
      "text/plain": [
       "       player_id  rating_new player_name player_surname\n",
       "4201       30152   24.993722       Артём       Сорожкин\n",
       "4013       28751   20.801037        Иван        Семушин\n",
       "11749     110920   20.498244     Алексей    Дворянчиков\n",
       "978         7008   19.081863     Алексей          Гилёв\n",
       "4221       30270   18.958365      Сергей        Спешков\n",
       "14741     131908   18.261247        Иван        Киселёв\n",
       "3843       27499   18.055412     Наталия       Рыжанова\n",
       "1724       12511   17.735158  Константин          Ильин\n",
       "1698       12313   17.547570      Сергей      Иванченко\n",
       "597         4270   16.569877  Александра         Брутер"
      ]
     },
     "execution_count": 21,
     "metadata": {},
     "output_type": "execute_result"
    }
   ],
   "source": [
    "player_rating.merge(data_train[['player_id', 'player_name', 'player_surname']].drop_duplicates(), on='player_id', how='left')[['player_id', 'rating_new', 'player_name', 'player_surname']].sort_values('rating_new', ascending=False).head(10)"
   ]
  },
  {
   "cell_type": "markdown",
   "metadata": {},
   "source": [
    "# Задание 5"
   ]
  },
  {
   "cell_type": "markdown",
   "metadata": {},
   "source": [
    "А что там с вопросами? Постройте “рейтинг-лист” турниров по сложности вопросов. Соответствует ли он интуиции (например, на чемпионате мира в целом должны быть сложные вопросы, а на турнирах для школьников — простые)? Если будет интересно: постройте топ сложных и простых вопросов со ссылками на конкретные записи в базе вопросов ЧГК (это чисто техническое дело, тут никакого ML нету)."
   ]
  },
  {
   "cell_type": "markdown",
   "metadata": {},
   "source": [
    "## Решение \n",
    "В качестве рейтинга сложности вопроса будем использовать средний рейтинг команд, которые не ответили на этот вопрос. Для оценки сложности турнира будем использовать средний рейтинг сложности вопросов."
   ]
  },
  {
   "cell_type": "code",
   "execution_count": 22,
   "metadata": {},
   "outputs": [],
   "source": [
    "temp_data_train = data_train.copy()\n",
    "temp_data_train = temp_data_train.merge(player_rating[['player_id', 'rating_new']], how='left', on='player_id')\n",
    "temp_data_train = temp_data_train.groupby(['tournament_id', 'tournament_name', 'team_id', 'question_num', 'question_result']).agg({'rating_new':'sum'}).reset_index()\n",
    "temp_data_train = temp_data_train.groupby(['tournament_id', 'tournament_name']).agg({'rating_new':'mean'}).reset_index()"
   ]
  },
  {
   "cell_type": "markdown",
   "metadata": {},
   "source": [
    "Топ-5 самых сложных турниров"
   ]
  },
  {
   "cell_type": "code",
   "execution_count": 23,
   "metadata": {},
   "outputs": [
    {
     "data": {
      "text/html": [
       "<div>\n",
       "<style scoped>\n",
       "    .dataframe tbody tr th:only-of-type {\n",
       "        vertical-align: middle;\n",
       "    }\n",
       "\n",
       "    .dataframe tbody tr th {\n",
       "        vertical-align: top;\n",
       "    }\n",
       "\n",
       "    .dataframe thead th {\n",
       "        text-align: right;\n",
       "    }\n",
       "</style>\n",
       "<table border=\"1\" class=\"dataframe\">\n",
       "  <thead>\n",
       "    <tr style=\"text-align: right;\">\n",
       "      <th></th>\n",
       "      <th>tournament_name</th>\n",
       "      <th>rating_new</th>\n",
       "    </tr>\n",
       "  </thead>\n",
       "  <tbody>\n",
       "    <tr>\n",
       "      <th>452</th>\n",
       "      <td>Шестой киевский марафон. Асинхрон</td>\n",
       "      <td>57.478488</td>\n",
       "    </tr>\n",
       "    <tr>\n",
       "      <th>541</th>\n",
       "      <td>Чемпионат Мира. Финал. Группа А</td>\n",
       "      <td>41.886907</td>\n",
       "    </tr>\n",
       "    <tr>\n",
       "      <th>538</th>\n",
       "      <td>Чемпионат Мира. Этап 3. Группа А</td>\n",
       "      <td>41.299444</td>\n",
       "    </tr>\n",
       "    <tr>\n",
       "      <th>534</th>\n",
       "      <td>Чемпионат Мира. Этап 2. Группа А</td>\n",
       "      <td>40.252623</td>\n",
       "    </tr>\n",
       "    <tr>\n",
       "      <th>531</th>\n",
       "      <td>Чемпионат Мира. Этап 1. Группа А</td>\n",
       "      <td>35.415596</td>\n",
       "    </tr>\n",
       "  </tbody>\n",
       "</table>\n",
       "</div>"
      ],
      "text/plain": [
       "                       tournament_name  rating_new\n",
       "452  Шестой киевский марафон. Асинхрон   57.478488\n",
       "541    Чемпионат Мира. Финал. Группа А   41.886907\n",
       "538   Чемпионат Мира. Этап 3. Группа А   41.299444\n",
       "534   Чемпионат Мира. Этап 2. Группа А   40.252623\n",
       "531   Чемпионат Мира. Этап 1. Группа А   35.415596"
      ]
     },
     "execution_count": 23,
     "metadata": {},
     "output_type": "execute_result"
    }
   ],
   "source": [
    "temp_data_train.sort_values('rating_new', ascending=False)[['tournament_name', 'rating_new']].head(5)"
   ]
  },
  {
   "cell_type": "markdown",
   "metadata": {},
   "source": [
    "Топ-5 самых легких турниров"
   ]
  },
  {
   "cell_type": "code",
   "execution_count": 24,
   "metadata": {},
   "outputs": [
    {
     "data": {
      "text/html": [
       "<div>\n",
       "<style scoped>\n",
       "    .dataframe tbody tr th:only-of-type {\n",
       "        vertical-align: middle;\n",
       "    }\n",
       "\n",
       "    .dataframe tbody tr th {\n",
       "        vertical-align: top;\n",
       "    }\n",
       "\n",
       "    .dataframe thead th {\n",
       "        text-align: right;\n",
       "    }\n",
       "</style>\n",
       "<table border=\"1\" class=\"dataframe\">\n",
       "  <thead>\n",
       "    <tr style=\"text-align: right;\">\n",
       "      <th></th>\n",
       "      <th>tournament_name</th>\n",
       "      <th>rating_new</th>\n",
       "    </tr>\n",
       "  </thead>\n",
       "  <tbody>\n",
       "    <tr>\n",
       "      <th>140</th>\n",
       "      <td>Зимник</td>\n",
       "      <td>0.124010</td>\n",
       "    </tr>\n",
       "    <tr>\n",
       "      <th>319</th>\n",
       "      <td>Открытый кубок Дальнего Востока (школьный зачёт)</td>\n",
       "      <td>0.167535</td>\n",
       "    </tr>\n",
       "    <tr>\n",
       "      <th>546</th>\n",
       "      <td>Школьная лига. II тур.</td>\n",
       "      <td>0.182863</td>\n",
       "    </tr>\n",
       "    <tr>\n",
       "      <th>569</th>\n",
       "      <td>Открытый кубок УМЭД</td>\n",
       "      <td>0.248110</td>\n",
       "    </tr>\n",
       "    <tr>\n",
       "      <th>647</th>\n",
       "      <td>Открытый чемпионат Белгородской области</td>\n",
       "      <td>0.272333</td>\n",
       "    </tr>\n",
       "  </tbody>\n",
       "</table>\n",
       "</div>"
      ],
      "text/plain": [
       "                                      tournament_name  rating_new\n",
       "140                                            Зимник    0.124010\n",
       "319  Открытый кубок Дальнего Востока (школьный зачёт)    0.167535\n",
       "546                            Школьная лига. II тур.    0.182863\n",
       "569                               Открытый кубок УМЭД    0.248110\n",
       "647           Открытый чемпионат Белгородской области    0.272333"
      ]
     },
     "execution_count": 24,
     "metadata": {},
     "output_type": "execute_result"
    }
   ],
   "source": [
    "temp_data_train.sort_values('rating_new', ascending=True)[['tournament_name', 'rating_new']].head(5)"
   ]
  },
  {
   "cell_type": "markdown",
   "metadata": {},
   "source": [
    "Результаты рейтингования логичны: на чемпионате мира уровень сложности вопросов выше, чем на школьных турнирах"
   ]
  }
 ],
 "metadata": {
  "kernelspec": {
   "display_name": "Python 3",
   "language": "python",
   "name": "python3"
  },
  "language_info": {
   "codemirror_mode": {
    "name": "ipython",
    "version": 3
   },
   "file_extension": ".py",
   "mimetype": "text/x-python",
   "name": "python",
   "nbconvert_exporter": "python",
   "pygments_lexer": "ipython3",
   "version": "3.8.3"
  }
 },
 "nbformat": 4,
 "nbformat_minor": 4
}
