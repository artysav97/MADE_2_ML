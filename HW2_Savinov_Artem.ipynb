{
 "cells": [
  {
   "cell_type": "code",
   "execution_count": 1,
   "metadata": {},
   "outputs": [
    {
     "name": "stderr",
     "output_type": "stream",
     "text": [
      "C:\\Users\\artys\\anaconda3\\lib\\site-packages\\sklearn\\utils\\deprecation.py:143: FutureWarning: The sklearn.utils.testing module is  deprecated in version 0.22 and will be removed in version 0.24. The corresponding classes / functions should instead be imported from sklearn.utils. Anything that cannot be imported from sklearn.utils is now part of the private API.\n",
      "  warnings.warn(message, FutureWarning)\n"
     ]
    }
   ],
   "source": [
    "import numpy as np\n",
    "import pandas as pd\n",
    "from matplotlib import pyplot as plt\n",
    "\n",
    "from sklearn.linear_model import LinearRegression, LogisticRegression\n",
    "from IPython.display import clear_output\n",
    "from datetime import datetime\n",
    "\n",
    "import matplotlib as mpl\n",
    "import matplotlib.pyplot as plt\n",
    "import seaborn as sns\n",
    "import json\n",
    "import numpy as np\n",
    "import scipy as sp\n",
    "import scipy.stats as st\n",
    "import scipy.integrate as integrate\n",
    "from sklearn import linear_model\n",
    "from scipy.stats import multivariate_normal\n",
    "from sklearn.utils.testing import ignore_warnings\n",
    "from sklearn.exceptions import ConvergenceWarning\n",
    "import statsmodels.api as sm\n",
    "\n",
    "from sklearn.preprocessing import OneHotEncoder\n",
    "from scipy.sparse import csr_matrix, hstack\n",
    "\n",
    "import pickle, json\n",
    "from scipy.stats import spearmanr, kendalltau\n",
    "\n",
    "from scipy.optimize import fmin_tnc\n",
    "\n",
    "import warnings\n",
    "warnings.filterwarnings(\"ignore\")"
   ]
  },
  {
   "cell_type": "code",
   "execution_count": 2,
   "metadata": {},
   "outputs": [
    {
     "name": "stdout",
     "output_type": "stream",
     "text": [
      "Wall time: 23.4 s\n"
     ]
    }
   ],
   "source": [
    "%%time\n",
    "with open(\"chgk/tournaments.pkl\", \"rb\") as f:\n",
    "    tournaments = pickle.load(f)\n",
    "with open(\"chgk/results.pkl\", \"rb\") as f:\n",
    "    results = pickle.load(f)\n",
    "with open(\"chgk/players.pkl\", \"rb\") as f:\n",
    "    players = pickle.load(f)"
   ]
  },
  {
   "cell_type": "markdown",
   "metadata": {},
   "source": [
    "# Задание 1"
   ]
  },
  {
   "cell_type": "markdown",
   "metadata": {},
   "source": [
    "Прочитайте и проанализируйте данные, выберите турниры, в которых есть данные о составах команд и повопросных результатах (поле mask в results.pkl). Для унификации предлагаю:\n",
    "- взять в тренировочный набор турниры с dateStart из 2019 года; \n",
    "- в тестовый — турниры с dateStart из 2020 года."
   ]
  },
  {
   "cell_type": "markdown",
   "metadata": {},
   "source": [
    "## Решение\n",
    "    Оставляем турниры, у которых есть информация о составах команд и есть информация об ответах команд на вопросы\n",
    "    Вопросы с отметкой X удаляются из выборки, вопросы с отметкой ? меняются на 0"
   ]
  },
  {
   "cell_type": "code",
   "execution_count": 3,
   "metadata": {},
   "outputs": [],
   "source": [
    "def has_teamMembers_and_mask(tournament):\n",
    "    flg = True\n",
    "    for team in tournament:\n",
    "        if (len(team['teamMembers']) == 0) or (team.get('mask') is None):\n",
    "            flg = False\n",
    "    return flg"
   ]
  },
  {
   "cell_type": "code",
   "execution_count": 4,
   "metadata": {},
   "outputs": [
    {
     "name": "stdout",
     "output_type": "stream",
     "text": [
      "Wall time: 488 ms\n"
     ]
    }
   ],
   "source": [
    "%%time\n",
    "# поправка на наличие инфо о составе и ответах по вопросам\n",
    "results_corrected  = [i for i in results.keys() if has_teamMembers_and_mask(results[i])]"
   ]
  },
  {
   "cell_type": "code",
   "execution_count": 5,
   "metadata": {},
   "outputs": [
    {
     "name": "stdout",
     "output_type": "stream",
     "text": [
      "Количество чемпионатов в TRAIN : 657\n",
      "Количество чемпионатов в TEST : 386\n",
      "Wall time: 871 ms\n"
     ]
    }
   ],
   "source": [
    "%%time\n",
    "# Делим чемпионаты на train (2019 год) и test (2020 год)\n",
    "train_tournaments_labels = []\n",
    "test_tournaments_labels = []\n",
    "for i in tournaments.keys():\n",
    "    if i in results_corrected:\n",
    "        if tournaments[i]['dateStart'][:4] == '2019':\n",
    "            train_tournaments_labels.append(i)\n",
    "        elif tournaments[i]['dateStart'][:4] == '2020':\n",
    "            test_tournaments_labels.append(i)\n",
    "            \n",
    "print('Количество чемпионатов в TRAIN :', len(train_tournaments_labels))\n",
    "print('Количество чемпионатов в TEST :', len(test_tournaments_labels))"
   ]
  },
  {
   "cell_type": "code",
   "execution_count": 6,
   "metadata": {},
   "outputs": [],
   "source": [
    "def to_int(x):\n",
    "    try:\n",
    "        return int(x)\n",
    "    except:\n",
    "        return 0"
   ]
  },
  {
   "cell_type": "code",
   "execution_count": 7,
   "metadata": {},
   "outputs": [
    {
     "name": "stdout",
     "output_type": "stream",
     "text": [
      "Wall time: 1min 51s\n"
     ]
    }
   ],
   "source": [
    "%%time\n",
    "# Вопросы с отметкой X удаляются из выборки, вопросы с отметкой ? меняются на 0\n",
    "data = {\n",
    "    'tournament_id': [],\n",
    "    'tournament_name': [],\n",
    "    'team_id': [],\n",
    "    'player_id': [],\n",
    "    'player_name': [],\n",
    "    'player_surname': [],\n",
    "    'question_num': [],\n",
    "    'question_result': []\n",
    "}\n",
    "\n",
    "for i in train_tournaments_labels:\n",
    "    for team in results[i]:\n",
    "        for player in team['teamMembers']:\n",
    "            for question_num in range(len(team['mask'])):\n",
    "                if team['mask'][question_num] != 'X':\n",
    "                    data['tournament_id'].append(tournaments[i]['id'])\n",
    "                    data['tournament_name'].append(tournaments[i]['name'])\n",
    "                    data['team_id'].append(team['team']['id'])\n",
    "                    data['player_id'].append(player['player']['id'])\n",
    "                    data['player_name'].append(player['player']['name'])\n",
    "                    data['player_surname'].append(player['player']['surname'])\n",
    "                    data['question_num'].append(question_num)\n",
    "                    data['question_result'].append(to_int(team['mask'][question_num]))\n",
    "                \n",
    "                \n",
    "data_train = pd.DataFrame.from_dict(data)"
   ]
  },
  {
   "cell_type": "markdown",
   "metadata": {},
   "source": [
    "# Задание 2"
   ]
  },
  {
   "cell_type": "markdown",
   "metadata": {},
   "source": [
    "Постройте baseline-модель на основе линейной или логистической регрессии, которая будет обучать рейтинг-лист игроков. Замечания и подсказки:\n",
    "- повопросные результаты — это фактически результаты броска монетки, и их предсказание скорее всего имеет отношение к бинарной классификации;\n",
    "- в разных турнирах вопросы совсем разного уровня сложности, поэтому модель должна это учитывать; скорее всего, модель должна будет явно обучать не только силу каждого игрока, но и сложность каждого вопроса;\n",
    "- для baseline-модели можно забыть о командах и считать, что повопросные результаты команды просто относятся к каждому из её игроков.\n"
   ]
  },
  {
   "cell_type": "markdown",
   "metadata": {},
   "source": [
    "## Решение\n",
    "    Соберем следующий набор признаков:\n",
    "    - Доля команд, участвующая в турнире\n",
    "    - Среднее количество ответов на турнире\n",
    "    - Среднее количество ответов на вопрос на турнире\n",
    "    - Среднее количество ответов игроком (в составе команды) за все время\n",
    "    \n",
    "    В качестве baseline модели будем использовать логистическую регерессию, обученную на одном атрибуте - доля команд, участвующая в этом турнире + среднее количество правильных ответов на турнире + среднее количество ответов на вопрос + среднее количество ответов одного игрока + среднее количество правильных ответов по всем игрокам\n",
    "    \n",
    "    Таблица рейтинга игроков формируется следующим образом: по каждому игроку считается средняя вероятность ответа игроком на вопрос"
   ]
  },
  {
   "cell_type": "code",
   "execution_count": 8,
   "metadata": {},
   "outputs": [],
   "source": [
    "data_train = data_train.merge((data_train.groupby('tournament_id')['team_id'].nunique()/data_train['team_id'].nunique()).to_frame('teams_qnt_rate').reset_index(), on='tournament_id', how='left')\n",
    "data_train = data_train.merge(data_train.groupby('tournament_id')['question_result'].mean().to_frame('mean_tournament_answered').reset_index(), on='tournament_id', how='left')\n",
    "data_train = data_train.merge(data_train.groupby(['tournament_id', 'question_num'])['question_result'].mean().to_frame('question_dificulty').reset_index(), on=['tournament_id', 'question_num'], how='left')\n",
    "data_train = data_train.merge(data_train.groupby(['tournament_id', 'player_id'])['question_result'].mean().to_frame('player_strength').reset_index(), on=['tournament_id', 'player_id'], how='left')"
   ]
  },
  {
   "cell_type": "code",
   "execution_count": 9,
   "metadata": {},
   "outputs": [
    {
     "data": {
      "text/html": [
       "<div>\n",
       "<style scoped>\n",
       "    .dataframe tbody tr th:only-of-type {\n",
       "        vertical-align: middle;\n",
       "    }\n",
       "\n",
       "    .dataframe tbody tr th {\n",
       "        vertical-align: top;\n",
       "    }\n",
       "\n",
       "    .dataframe thead th {\n",
       "        text-align: right;\n",
       "    }\n",
       "</style>\n",
       "<table border=\"1\" class=\"dataframe\">\n",
       "  <thead>\n",
       "    <tr style=\"text-align: right;\">\n",
       "      <th></th>\n",
       "      <th>tournament_id</th>\n",
       "      <th>tournament_name</th>\n",
       "      <th>team_id</th>\n",
       "      <th>player_id</th>\n",
       "      <th>player_name</th>\n",
       "      <th>player_surname</th>\n",
       "      <th>question_num</th>\n",
       "      <th>question_result</th>\n",
       "      <th>teams_qnt_rate</th>\n",
       "      <th>mean_tournament_answered</th>\n",
       "      <th>question_dificulty</th>\n",
       "      <th>player_strength</th>\n",
       "    </tr>\n",
       "  </thead>\n",
       "  <tbody>\n",
       "    <tr>\n",
       "      <th>0</th>\n",
       "      <td>4772</td>\n",
       "      <td>Синхрон северных стран. Зимний выпуск</td>\n",
       "      <td>45556</td>\n",
       "      <td>6212</td>\n",
       "      <td>Юрий</td>\n",
       "      <td>Выменец</td>\n",
       "      <td>0</td>\n",
       "      <td>1</td>\n",
       "      <td>0.021079</td>\n",
       "      <td>0.475605</td>\n",
       "      <td>0.892295</td>\n",
       "      <td>0.777778</td>\n",
       "    </tr>\n",
       "    <tr>\n",
       "      <th>1</th>\n",
       "      <td>4772</td>\n",
       "      <td>Синхрон северных стран. Зимний выпуск</td>\n",
       "      <td>45556</td>\n",
       "      <td>6212</td>\n",
       "      <td>Юрий</td>\n",
       "      <td>Выменец</td>\n",
       "      <td>1</td>\n",
       "      <td>1</td>\n",
       "      <td>0.021079</td>\n",
       "      <td>0.475605</td>\n",
       "      <td>0.776305</td>\n",
       "      <td>0.777778</td>\n",
       "    </tr>\n",
       "    <tr>\n",
       "      <th>2</th>\n",
       "      <td>4772</td>\n",
       "      <td>Синхрон северных стран. Зимний выпуск</td>\n",
       "      <td>45556</td>\n",
       "      <td>6212</td>\n",
       "      <td>Юрий</td>\n",
       "      <td>Выменец</td>\n",
       "      <td>2</td>\n",
       "      <td>1</td>\n",
       "      <td>0.021079</td>\n",
       "      <td>0.475605</td>\n",
       "      <td>0.463132</td>\n",
       "      <td>0.777778</td>\n",
       "    </tr>\n",
       "    <tr>\n",
       "      <th>3</th>\n",
       "      <td>4772</td>\n",
       "      <td>Синхрон северных стран. Зимний выпуск</td>\n",
       "      <td>45556</td>\n",
       "      <td>6212</td>\n",
       "      <td>Юрий</td>\n",
       "      <td>Выменец</td>\n",
       "      <td>3</td>\n",
       "      <td>1</td>\n",
       "      <td>0.021079</td>\n",
       "      <td>0.475605</td>\n",
       "      <td>0.541839</td>\n",
       "      <td>0.777778</td>\n",
       "    </tr>\n",
       "    <tr>\n",
       "      <th>4</th>\n",
       "      <td>4772</td>\n",
       "      <td>Синхрон северных стран. Зимний выпуск</td>\n",
       "      <td>45556</td>\n",
       "      <td>6212</td>\n",
       "      <td>Юрий</td>\n",
       "      <td>Выменец</td>\n",
       "      <td>4</td>\n",
       "      <td>1</td>\n",
       "      <td>0.021079</td>\n",
       "      <td>0.475605</td>\n",
       "      <td>0.888981</td>\n",
       "      <td>0.777778</td>\n",
       "    </tr>\n",
       "  </tbody>\n",
       "</table>\n",
       "</div>"
      ],
      "text/plain": [
       "   tournament_id                        tournament_name  team_id  player_id  \\\n",
       "0           4772  Синхрон северных стран. Зимний выпуск    45556       6212   \n",
       "1           4772  Синхрон северных стран. Зимний выпуск    45556       6212   \n",
       "2           4772  Синхрон северных стран. Зимний выпуск    45556       6212   \n",
       "3           4772  Синхрон северных стран. Зимний выпуск    45556       6212   \n",
       "4           4772  Синхрон северных стран. Зимний выпуск    45556       6212   \n",
       "\n",
       "  player_name player_surname  question_num  question_result  teams_qnt_rate  \\\n",
       "0        Юрий        Выменец             0                1        0.021079   \n",
       "1        Юрий        Выменец             1                1        0.021079   \n",
       "2        Юрий        Выменец             2                1        0.021079   \n",
       "3        Юрий        Выменец             3                1        0.021079   \n",
       "4        Юрий        Выменец             4                1        0.021079   \n",
       "\n",
       "   mean_tournament_answered  question_dificulty  player_strength  \n",
       "0                  0.475605            0.892295         0.777778  \n",
       "1                  0.475605            0.776305         0.777778  \n",
       "2                  0.475605            0.463132         0.777778  \n",
       "3                  0.475605            0.541839         0.777778  \n",
       "4                  0.475605            0.888981         0.777778  "
      ]
     },
     "execution_count": 9,
     "metadata": {},
     "output_type": "execute_result"
    }
   ],
   "source": [
    "data_train.head()"
   ]
  },
  {
   "cell_type": "code",
   "execution_count": 10,
   "metadata": {},
   "outputs": [],
   "source": [
    "# Формируем выборки для обучения модели\n",
    "X_train = (data_train['teams_qnt_rate'] + data_train['mean_tournament_answered'] + data_train['question_dificulty'] + data_train['player_strength'] + data_train['question_result'].mean()).values\n",
    "X_train = X_train.reshape(-1, 1)\n",
    "X_train = np.append(X_train, np.ones((X_train.shape[0], 1)), axis=1)\n",
    "y_train = data_train['question_result'].values\n",
    "y_train = y_train.reshape(-1, 1)"
   ]
  },
  {
   "cell_type": "code",
   "execution_count": 11,
   "metadata": {},
   "outputs": [
    {
     "name": "stdout",
     "output_type": "stream",
     "text": [
      "Wall time: 21.6 s\n"
     ]
    },
    {
     "data": {
      "text/plain": [
       "LogisticRegression()"
      ]
     },
     "execution_count": 11,
     "metadata": {},
     "output_type": "execute_result"
    }
   ],
   "source": [
    "%%time\n",
    "# Обучаем модель\n",
    "model = LogisticRegression(solver = 'lbfgs')\n",
    "model.fit(X_train[:, 0].reshape(-1, 1), y_train)"
   ]
  },
  {
   "cell_type": "code",
   "execution_count": 12,
   "metadata": {},
   "outputs": [],
   "source": [
    "# Функция для формирования рейтинга игроков\n",
    "def calc_rating(prediction, player_rating_table=None, rating_name='rating'):\n",
    "    \n",
    "    temp_player_rating = data_train['player_id'].to_frame().copy()\n",
    "    temp_player_rating['probability'] = prediction\n",
    "    temp_player_rating = temp_player_rating.groupby('player_id')['probability'].mean().to_frame(rating_name).reset_index()\n",
    "    \n",
    "    if player_rating_table is None:\n",
    "        player_rating_table = temp_player_rating\n",
    "    else:\n",
    "        if rating_name in player_rating_table.columns:\n",
    "            player_rating_table[rating_name] = temp_player_rating[rating_name]\n",
    "        else:\n",
    "            player_rating_table = player_rating_table.merge(temp_player_rating, how='left', on='player_id')\n",
    "        \n",
    "    return player_rating_table"
   ]
  },
  {
   "cell_type": "markdown",
   "metadata": {},
   "source": [
    "Топ самых сильных игроков"
   ]
  },
  {
   "cell_type": "code",
   "execution_count": 13,
   "metadata": {},
   "outputs": [
    {
     "data": {
      "text/html": [
       "<div>\n",
       "<style scoped>\n",
       "    .dataframe tbody tr th:only-of-type {\n",
       "        vertical-align: middle;\n",
       "    }\n",
       "\n",
       "    .dataframe tbody tr th {\n",
       "        vertical-align: top;\n",
       "    }\n",
       "\n",
       "    .dataframe thead th {\n",
       "        text-align: right;\n",
       "    }\n",
       "</style>\n",
       "<table border=\"1\" class=\"dataframe\">\n",
       "  <thead>\n",
       "    <tr style=\"text-align: right;\">\n",
       "      <th></th>\n",
       "      <th>player_id</th>\n",
       "      <th>rating</th>\n",
       "      <th>player_name</th>\n",
       "      <th>player_surname</th>\n",
       "    </tr>\n",
       "  </thead>\n",
       "  <tbody>\n",
       "    <tr>\n",
       "      <th>51527</th>\n",
       "      <td>215497</td>\n",
       "      <td>0.967950</td>\n",
       "      <td>Екатерина</td>\n",
       "      <td>Горелова</td>\n",
       "    </tr>\n",
       "    <tr>\n",
       "      <th>51525</th>\n",
       "      <td>215495</td>\n",
       "      <td>0.967950</td>\n",
       "      <td>Юлия</td>\n",
       "      <td>Крюкова</td>\n",
       "    </tr>\n",
       "    <tr>\n",
       "      <th>51526</th>\n",
       "      <td>215496</td>\n",
       "      <td>0.967950</td>\n",
       "      <td>Наталья</td>\n",
       "      <td>Артемьева</td>\n",
       "    </tr>\n",
       "    <tr>\n",
       "      <th>1810</th>\n",
       "      <td>13105</td>\n",
       "      <td>0.964567</td>\n",
       "      <td>Антон</td>\n",
       "      <td>Калинин</td>\n",
       "    </tr>\n",
       "    <tr>\n",
       "      <th>23115</th>\n",
       "      <td>172202</td>\n",
       "      <td>0.958324</td>\n",
       "      <td>Роман</td>\n",
       "      <td>Рябухин</td>\n",
       "    </tr>\n",
       "    <tr>\n",
       "      <th>51460</th>\n",
       "      <td>215410</td>\n",
       "      <td>0.956800</td>\n",
       "      <td>Махбуба</td>\n",
       "      <td>Мамаджанова</td>\n",
       "    </tr>\n",
       "    <tr>\n",
       "      <th>51524</th>\n",
       "      <td>215494</td>\n",
       "      <td>0.952363</td>\n",
       "      <td>Дарина</td>\n",
       "      <td>Калнина</td>\n",
       "    </tr>\n",
       "    <tr>\n",
       "      <th>18189</th>\n",
       "      <td>150837</td>\n",
       "      <td>0.952363</td>\n",
       "      <td>Артём</td>\n",
       "      <td>Улюкин</td>\n",
       "    </tr>\n",
       "    <tr>\n",
       "      <th>41052</th>\n",
       "      <td>202410</td>\n",
       "      <td>0.943226</td>\n",
       "      <td>Валентина</td>\n",
       "      <td>Подюкова</td>\n",
       "    </tr>\n",
       "    <tr>\n",
       "      <th>41053</th>\n",
       "      <td>202413</td>\n",
       "      <td>0.942738</td>\n",
       "      <td>Мария</td>\n",
       "      <td>Каменских</td>\n",
       "    </tr>\n",
       "  </tbody>\n",
       "</table>\n",
       "</div>"
      ],
      "text/plain": [
       "       player_id    rating player_name player_surname\n",
       "51527     215497  0.967950   Екатерина       Горелова\n",
       "51525     215495  0.967950        Юлия        Крюкова\n",
       "51526     215496  0.967950     Наталья      Артемьева\n",
       "1810       13105  0.964567       Антон        Калинин\n",
       "23115     172202  0.958324       Роман        Рябухин\n",
       "51460     215410  0.956800     Махбуба    Мамаджанова\n",
       "51524     215494  0.952363      Дарина        Калнина\n",
       "18189     150837  0.952363       Артём         Улюкин\n",
       "41052     202410  0.943226   Валентина       Подюкова\n",
       "41053     202413  0.942738       Мария      Каменских"
      ]
     },
     "execution_count": 13,
     "metadata": {},
     "output_type": "execute_result"
    }
   ],
   "source": [
    "player_rating = calc_rating(model.predict_proba(X_train[:, 0].reshape(-1, 1))[:, 1], player_rating_table=None)\n",
    "player_rating.merge(data_train[['player_id', 'player_name', 'player_surname']].drop_duplicates(), on='player_id', how='left').sort_values('rating', ascending=False).head(10)"
   ]
  },
  {
   "cell_type": "markdown",
   "metadata": {},
   "source": [
    "# Задание 3"
   ]
  },
  {
   "cell_type": "markdown",
   "metadata": {},
   "source": [
    "Качество рейтинг-системы оценивается качеством предсказаний результатов турниров. Но сами повопросные результаты наши модели предсказывать вряд ли смогут, ведь неизвестно, насколько сложными окажутся вопросы в будущих турнирах; да и не нужны эти предсказания сами по себе. Поэтому:\n",
    "- предложите способ предсказать результаты нового турнира с известными составами, но неизвестными вопросами, в виде ранжирования команд;\n",
    "- в качестве метрики качества на тестовом наборе давайте считать ранговые корреляции Спирмена и Кендалла (их можно взять в пакете scipy) между реальным ранжированием в результатах турнира и предсказанным моделью, усреднённые по тестовому множеству турниров.\n"
   ]
  },
  {
   "cell_type": "markdown",
   "metadata": {},
   "source": [
    "## Решение\n",
    "Рейтинг команды будем оценивать, как сумма рейтингов участников команды"
   ]
  },
  {
   "cell_type": "code",
   "execution_count": 14,
   "metadata": {},
   "outputs": [
    {
     "name": "stdout",
     "output_type": "stream",
     "text": [
      "Wall time: 1.14 s\n"
     ]
    }
   ],
   "source": [
    "%%time\n",
    "# Обработка тестовой выборки - чемпионаты 2020\n",
    "# Вопросы с отметкой X удаляются из выборки, вопросы с отметкой ? меняются на 0\n",
    "data = {\n",
    "    'tournament_id': [],\n",
    "    'tournament_name': [],\n",
    "    'team_id': [],\n",
    "    'player_id': [],\n",
    "    'position' : [],\n",
    "}\n",
    "\n",
    "for i in test_tournaments_labels:\n",
    "    for team in results[i]:\n",
    "        for player in team['teamMembers']:\n",
    "            data['tournament_id'].append(tournaments[i]['id'])\n",
    "            data['tournament_name'].append(tournaments[i]['name'])\n",
    "            data['team_id'].append(team['team']['id'])\n",
    "            data['player_id'].append(player['player']['id'])\n",
    "            data['position'].append(int(team['position']))\n",
    "                                \n",
    "data_test = pd.DataFrame.from_dict(data)"
   ]
  },
  {
   "cell_type": "code",
   "execution_count": 15,
   "metadata": {},
   "outputs": [],
   "source": [
    "# Функция для проверки качества рейтингования игроков на тестовом наборе данных\n",
    "def check_quality(test_df, rating_df, rating_name):\n",
    "    \n",
    "    test_df = test_df.merge(rating_df, on='player_id', how='left')\n",
    "    test_df[rating_name] = test_df[rating_name].fillna(0)\n",
    "    data_test_grouped = test_df.groupby(['tournament_id', 'team_id', 'position'])[rating_name].sum().to_frame().reset_index()\n",
    "\n",
    "    spearmanr_list = []\n",
    "    kendalltau_list = []\n",
    "\n",
    "    for i in data_test_grouped['tournament_id'].drop_duplicates():\n",
    "        temp = data_test_grouped[data_test_grouped['tournament_id']==i]\n",
    "        if temp.shape[0] > 1:\n",
    "            spearmanr_value, _ = spearmanr(temp['position'], temp[rating_name])\n",
    "            kendalltau_value, _ = kendalltau(temp['position'], temp[rating_name])\n",
    "            spearmanr_list.append(spearmanr_value)\n",
    "            kendalltau_list.append(kendalltau_value)\n",
    "\n",
    "    return np.mean(spearmanr_list), np.mean(kendalltau_list)"
   ]
  },
  {
   "cell_type": "code",
   "execution_count": 16,
   "metadata": {},
   "outputs": [
    {
     "name": "stdout",
     "output_type": "stream",
     "text": [
      "Корреляция Спирмана: -0.5929472671744298\n",
      "Корреляция Кендала: -0.4469306480998754\n"
     ]
    }
   ],
   "source": [
    "# Проверка качества: средняя корреляция Спирмена и Кендала\n",
    "spearman, kendal = check_quality(test_df=data_test.copy(), \n",
    "                                 rating_df=player_rating.copy(), \n",
    "                                 rating_name='rating')\n",
    "print('Корреляция Спирмана:', spearman)\n",
    "print('Корреляция Кендала:', kendal)"
   ]
  },
  {
   "cell_type": "markdown",
   "metadata": {},
   "source": [
    "# Задание 4"
   ]
  },
  {
   "cell_type": "markdown",
   "metadata": {},
   "source": [
    "Теперь главное: ЧГК — это всё-таки командная игра. Поэтому:\n",
    "- предложите способ учитывать то, что на вопрос отвечают сразу несколько игроков; скорее всего, понадобятся скрытые переменные; не стесняйтесь делать упрощающие предположения, но теперь переменные “игрок X ответил на вопрос Y” при условии данных должны стать зависимыми для игроков одной и той же команды;\n",
    "- разработайте EM-схему для обучения этой модели, реализуйте её в коде;\n",
    "- обучите несколько итераций, убедитесь, что целевые метрики со временем растут (скорее всего, ненамного, но расти должны), выберите лучшую модель, используя целевые метрики.\n"
   ]
  },
  {
   "cell_type": "markdown",
   "metadata": {},
   "source": [
    "## Решение\n",
    "    Основное предположение: \n",
    "    - если команда не ответила на вопрос, значит ни один из игроков не ответил на вопрос\n",
    "    - если команда отвтеила на вопрос, значит хотя бы один игрок команды ответил на вопрос\n",
    "    \n",
    "    EM-алгоритм будет состоять в следующем:\n",
    "    - введем скрытую переменную z - игрок ответил на вопрос\n",
    "    - на M-шаге мы фиксируем текущие значения z для игроков и обучаем логистическую регрессию\n",
    "    - на Е-шаге мы прогнозируем новые вероятности z для игроков, а также делаем корректировку этих вероятностей:\n",
    "        - если команда не ответила на вопрос (y==0), то z = 0\n",
    "        - если команда ответила на вопрос (у==1), то z = z / вероятность того, что хотя бы один игрок из команды ответил на этот вопрос"
   ]
  },
  {
   "cell_type": "code",
   "execution_count": 17,
   "metadata": {},
   "outputs": [],
   "source": [
    "# Функции, реализующие логистическую регрессию, которая может обрабатывать нецелые значения в качестве целевого события\n",
    "def sigmoid(x):\n",
    "    # Activation function used to map any real value between 0 and 1\n",
    "    return 1 / (1 + np.exp(-x))\n",
    "\n",
    "def net_input(theta, x):\n",
    "    # Computes the weighted sum of inputs\n",
    "    return np.dot(x, theta)\n",
    "\n",
    "def probability(theta, x):\n",
    "    # Returns the probability after passing through sigmoid\n",
    "    return sigmoid(net_input(theta, x))\n",
    "\n",
    "def cost_function(theta, x, y):\n",
    "    # Computes the cost function for all the training samples\n",
    "    m = x.shape[0]\n",
    "    total_cost = -(1 / m) * np.sum(\n",
    "        y * np.log(probability(theta, x)) + (1 - y) * np.log(\n",
    "            1 - probability(theta, x)))\n",
    "    return total_cost\n",
    "\n",
    "def gradient(theta, x, y):\n",
    "    # Computes the gradient of the cost function at the point theta\n",
    "    m = x.shape[0]\n",
    "    return (1 / m) * np.dot(x.T, sigmoid(net_input(theta,   x)) - y)\n",
    "\n",
    "def fit(x, y, theta):\n",
    "    opt_weights = fmin_tnc(func=cost_function, x0=theta,\n",
    "                  fprime=gradient,args=(x, y.flatten()))\n",
    "    return opt_weights[0]"
   ]
  },
  {
   "cell_type": "code",
   "execution_count": 18,
   "metadata": {},
   "outputs": [],
   "source": [
    "def em_step(X_train, y_train, z_train=None, write_rating_to=player_rating, rating_name='rating_new'):\n",
    "    \n",
    "    # только для первого шага\n",
    "    if z_train is None:\n",
    "        z_train = y_train.copy()\n",
    "    \n",
    "    # для всех остальных шагов, включая первый\n",
    "    theta = np.zeros((X_train.shape[1], 1))\n",
    "    parameters = fit(X_train, z_train, theta)\n",
    "    \n",
    "    parameters[1] = parameters[1] + np.log((pi * n_u) / (n_0 + pi * n_u))\n",
    "    \n",
    "    z_pred = probability(parameters, X_train)\n",
    "    \n",
    "    # Для правильных ответов на вопрос с учетом того, что хотя бы один человек из команды ответил\n",
    "    temp_data_train = data_train.copy()\n",
    "    temp_data_train['1_minus_z_pred'] = np.ones((temp_data_train.shape[0], 1)) - z_pred.reshape(-1, 1)\n",
    "    temp_data_train_gr = temp_data_train.groupby(['tournament_id', 'team_id', 'question_num']).agg({'1_minus_z_pred':np.prod}).reset_index().rename(columns={'1_minus_z_pred':'1_minus_z_pred_multi'})\n",
    "    temp_data_train = temp_data_train.merge(temp_data_train_gr, \n",
    "                                            how='left',\n",
    "                                            on=['tournament_id', 'team_id', 'question_num']\n",
    "                                           )\n",
    "    z_pred = (z_pred / (1 - temp_data_train['1_minus_z_pred_multi'])).values\n",
    "    \n",
    "    # Для тех вопросов на которые команда не ответила\n",
    "    z_pred[y_train.flatten()==0] = 0\n",
    "    \n",
    "    write_rating_to = calc_rating(prediction = z_pred, player_rating_table=write_rating_to, rating_name=rating_name)\n",
    "    \n",
    "    return z_pred, parameters, write_rating_to"
   ]
  },
  {
   "cell_type": "code",
   "execution_count": 19,
   "metadata": {},
   "outputs": [],
   "source": [
    "pi = 0.1 # p(z==1)\n",
    "n_0 = len(data_train['question_result'])-sum(data_train['question_result'])\n",
    "n_u = sum(data_train['question_result'])"
   ]
  },
  {
   "cell_type": "code",
   "execution_count": 20,
   "metadata": {},
   "outputs": [
    {
     "name": "stdout",
     "output_type": "stream",
     "text": [
      "Шаг 1\n",
      "Корреляция Спирмана: -0.6784036560669311\n",
      "Корреляция Кендала: -0.521887170432703\n",
      "\n",
      "Шаг 2\n",
      "Корреляция Спирмана: -0.6850047334763094\n",
      "Корреляция Кендала: -0.5280740462626515\n",
      "\n",
      "Шаг 3\n",
      "Корреляция Спирмана: -0.6852120573262123\n",
      "Корреляция Кендала: -0.528558975105415\n",
      "\n",
      "Wall time: 4min 4s\n"
     ]
    }
   ],
   "source": [
    "%%time\n",
    "# Выведем корреляцию рейтинга команд и спрогнозированный рейтинг команд после каждого шага EM-алгоритма\n",
    "N = 3\n",
    "for step_number in range(N):\n",
    "    \n",
    "    if step_number == 0:\n",
    "        # первый шаг\n",
    "        z_new, coefs, player_rating = em_step(X_train=X_train.copy(), \n",
    "                                              y_train=y_train.copy(), \n",
    "                                              z_train=None,\n",
    "                                              write_rating_to = player_rating,\n",
    "                                              rating_name='rating_new'\n",
    "                                             )\n",
    "    else:\n",
    "        # все остальные шаги\n",
    "        z_new, coefs, player_rating = em_step(X_train=X_train.copy(), \n",
    "                                      y_train=y_train.copy(), \n",
    "                                      z_train=z_new.copy(),\n",
    "                                      write_rating_to = player_rating,\n",
    "                                      rating_name='rating_new'\n",
    "                                     )\n",
    "\n",
    "    \n",
    "    # Проверка качества: средняя корреляция Спирмена и Кендала\n",
    "    spearman, kendal = check_quality(test_df=data_test.copy(), \n",
    "                                     rating_df=player_rating.copy(), \n",
    "                                     rating_name='rating_new')\n",
    "    print('Шаг', step_number+1)\n",
    "    print('Корреляция Спирмана:', spearman)\n",
    "    print('Корреляция Кендала:', kendal)\n",
    "    print()"
   ]
  },
  {
   "cell_type": "markdown",
   "metadata": {},
   "source": [
    "Обновленный рейтинг игроков"
   ]
  },
  {
   "cell_type": "code",
   "execution_count": 21,
   "metadata": {},
   "outputs": [
    {
     "data": {
      "text/html": [
       "<div>\n",
       "<style scoped>\n",
       "    .dataframe tbody tr th:only-of-type {\n",
       "        vertical-align: middle;\n",
       "    }\n",
       "\n",
       "    .dataframe tbody tr th {\n",
       "        vertical-align: top;\n",
       "    }\n",
       "\n",
       "    .dataframe thead th {\n",
       "        text-align: right;\n",
       "    }\n",
       "</style>\n",
       "<table border=\"1\" class=\"dataframe\">\n",
       "  <thead>\n",
       "    <tr style=\"text-align: right;\">\n",
       "      <th></th>\n",
       "      <th>player_id</th>\n",
       "      <th>rating_new</th>\n",
       "      <th>player_name</th>\n",
       "      <th>player_surname</th>\n",
       "    </tr>\n",
       "  </thead>\n",
       "  <tbody>\n",
       "    <tr>\n",
       "      <th>22497</th>\n",
       "      <td>169939</td>\n",
       "      <td>0.423960</td>\n",
       "      <td>Иван</td>\n",
       "      <td>Таратин</td>\n",
       "    </tr>\n",
       "    <tr>\n",
       "      <th>15525</th>\n",
       "      <td>136300</td>\n",
       "      <td>0.394786</td>\n",
       "      <td>Александра</td>\n",
       "      <td>Буйная</td>\n",
       "    </tr>\n",
       "    <tr>\n",
       "      <th>681</th>\n",
       "      <td>4876</td>\n",
       "      <td>0.391636</td>\n",
       "      <td>Владимир</td>\n",
       "      <td>Вакуленко</td>\n",
       "    </tr>\n",
       "    <tr>\n",
       "      <th>2820</th>\n",
       "      <td>20056</td>\n",
       "      <td>0.380930</td>\n",
       "      <td>Евгений</td>\n",
       "      <td>Мартьянов</td>\n",
       "    </tr>\n",
       "    <tr>\n",
       "      <th>3155</th>\n",
       "      <td>22474</td>\n",
       "      <td>0.376710</td>\n",
       "      <td>Илья</td>\n",
       "      <td>Немец</td>\n",
       "    </tr>\n",
       "    <tr>\n",
       "      <th>48083</th>\n",
       "      <td>211291</td>\n",
       "      <td>0.361111</td>\n",
       "      <td>Валерий</td>\n",
       "      <td>Галкин</td>\n",
       "    </tr>\n",
       "    <tr>\n",
       "      <th>50231</th>\n",
       "      <td>213791</td>\n",
       "      <td>0.352941</td>\n",
       "      <td>Кямал</td>\n",
       "      <td>Гурбанли</td>\n",
       "    </tr>\n",
       "    <tr>\n",
       "      <th>15195</th>\n",
       "      <td>134316</td>\n",
       "      <td>0.349408</td>\n",
       "      <td>Екатерина</td>\n",
       "      <td>Морозова</td>\n",
       "    </tr>\n",
       "    <tr>\n",
       "      <th>18494</th>\n",
       "      <td>152100</td>\n",
       "      <td>0.335372</td>\n",
       "      <td>Дмитрий</td>\n",
       "      <td>Крючков</td>\n",
       "    </tr>\n",
       "    <tr>\n",
       "      <th>2536</th>\n",
       "      <td>17997</td>\n",
       "      <td>0.335256</td>\n",
       "      <td>Константин</td>\n",
       "      <td>Лебедев</td>\n",
       "    </tr>\n",
       "  </tbody>\n",
       "</table>\n",
       "</div>"
      ],
      "text/plain": [
       "       player_id  rating_new player_name player_surname\n",
       "22497     169939    0.423960        Иван        Таратин\n",
       "15525     136300    0.394786  Александра         Буйная\n",
       "681         4876    0.391636    Владимир      Вакуленко\n",
       "2820       20056    0.380930     Евгений      Мартьянов\n",
       "3155       22474    0.376710        Илья          Немец\n",
       "48083     211291    0.361111     Валерий         Галкин\n",
       "50231     213791    0.352941       Кямал       Гурбанли\n",
       "15195     134316    0.349408   Екатерина       Морозова\n",
       "18494     152100    0.335372     Дмитрий        Крючков\n",
       "2536       17997    0.335256  Константин        Лебедев"
      ]
     },
     "execution_count": 21,
     "metadata": {},
     "output_type": "execute_result"
    }
   ],
   "source": [
    "player_rating.merge(data_train[['player_id', 'player_name', 'player_surname']].drop_duplicates(), on='player_id', how='left')[['player_id', 'rating_new', 'player_name', 'player_surname']].sort_values('rating_new', ascending=False).head(10)"
   ]
  },
  {
   "cell_type": "markdown",
   "metadata": {},
   "source": [
    "# Задание 5"
   ]
  },
  {
   "cell_type": "markdown",
   "metadata": {},
   "source": [
    "А что там с вопросами? Постройте “рейтинг-лист” турниров по сложности вопросов. Соответствует ли он интуиции (например, на чемпионате мира в целом должны быть сложные вопросы, а на турнирах для школьников — простые)? Если будет интересно: постройте топ сложных и простых вопросов со ссылками на конкретные записи в базе вопросов ЧГК (это чисто техническое дело, тут никакого ML нету)."
   ]
  },
  {
   "cell_type": "markdown",
   "metadata": {},
   "source": [
    "## Решение \n",
    "В качестве рейтинга сложности вопроса будем использовать средний рейтинг команд, которые не ответили на этот вопрос. Для оценки сложности турнира будем использовать средний рейтинг сложности вопросов."
   ]
  },
  {
   "cell_type": "code",
   "execution_count": 22,
   "metadata": {},
   "outputs": [],
   "source": [
    "temp_data_train = data_train.copy()\n",
    "temp_data_train = temp_data_train.merge(player_rating[['player_id', 'rating_new']], how='left', on='player_id')\n",
    "temp_data_train = temp_data_train.groupby(['tournament_id', 'tournament_name', 'team_id', 'question_num', 'question_result']).agg({'rating_new':'sum'}).reset_index()\n",
    "temp_data_train = temp_data_train.groupby(['tournament_id', 'tournament_name']).agg({'rating_new':'mean'}).reset_index()"
   ]
  },
  {
   "cell_type": "markdown",
   "metadata": {},
   "source": [
    "Топ-5 самых сложных турниров"
   ]
  },
  {
   "cell_type": "code",
   "execution_count": 23,
   "metadata": {},
   "outputs": [
    {
     "data": {
      "text/html": [
       "<div>\n",
       "<style scoped>\n",
       "    .dataframe tbody tr th:only-of-type {\n",
       "        vertical-align: middle;\n",
       "    }\n",
       "\n",
       "    .dataframe tbody tr th {\n",
       "        vertical-align: top;\n",
       "    }\n",
       "\n",
       "    .dataframe thead th {\n",
       "        text-align: right;\n",
       "    }\n",
       "</style>\n",
       "<table border=\"1\" class=\"dataframe\">\n",
       "  <thead>\n",
       "    <tr style=\"text-align: right;\">\n",
       "      <th></th>\n",
       "      <th>tournament_name</th>\n",
       "      <th>rating_new</th>\n",
       "    </tr>\n",
       "  </thead>\n",
       "  <tbody>\n",
       "    <tr>\n",
       "      <th>643</th>\n",
       "      <td>Чемпионат Санкт-Петербурга. Высшая лига</td>\n",
       "      <td>0.815264</td>\n",
       "    </tr>\n",
       "    <tr>\n",
       "      <th>541</th>\n",
       "      <td>Чемпионат Мира. Финал. Группа А</td>\n",
       "      <td>0.783617</td>\n",
       "    </tr>\n",
       "    <tr>\n",
       "      <th>538</th>\n",
       "      <td>Чемпионат Мира. Этап 3. Группа А</td>\n",
       "      <td>0.779232</td>\n",
       "    </tr>\n",
       "    <tr>\n",
       "      <th>534</th>\n",
       "      <td>Чемпионат Мира. Этап 2. Группа А</td>\n",
       "      <td>0.778732</td>\n",
       "    </tr>\n",
       "    <tr>\n",
       "      <th>531</th>\n",
       "      <td>Чемпионат Мира. Этап 1. Группа А</td>\n",
       "      <td>0.734405</td>\n",
       "    </tr>\n",
       "  </tbody>\n",
       "</table>\n",
       "</div>"
      ],
      "text/plain": [
       "                             tournament_name  rating_new\n",
       "643  Чемпионат Санкт-Петербурга. Высшая лига    0.815264\n",
       "541          Чемпионат Мира. Финал. Группа А    0.783617\n",
       "538         Чемпионат Мира. Этап 3. Группа А    0.779232\n",
       "534         Чемпионат Мира. Этап 2. Группа А    0.778732\n",
       "531         Чемпионат Мира. Этап 1. Группа А    0.734405"
      ]
     },
     "execution_count": 23,
     "metadata": {},
     "output_type": "execute_result"
    }
   ],
   "source": [
    "temp_data_train.sort_values('rating_new', ascending=False)[['tournament_name', 'rating_new']].head(5)"
   ]
  },
  {
   "cell_type": "markdown",
   "metadata": {},
   "source": [
    "Топ-5 самых легких турниров"
   ]
  },
  {
   "cell_type": "code",
   "execution_count": 24,
   "metadata": {},
   "outputs": [
    {
     "data": {
      "text/html": [
       "<div>\n",
       "<style scoped>\n",
       "    .dataframe tbody tr th:only-of-type {\n",
       "        vertical-align: middle;\n",
       "    }\n",
       "\n",
       "    .dataframe tbody tr th {\n",
       "        vertical-align: top;\n",
       "    }\n",
       "\n",
       "    .dataframe thead th {\n",
       "        text-align: right;\n",
       "    }\n",
       "</style>\n",
       "<table border=\"1\" class=\"dataframe\">\n",
       "  <thead>\n",
       "    <tr style=\"text-align: right;\">\n",
       "      <th></th>\n",
       "      <th>tournament_name</th>\n",
       "      <th>rating_new</th>\n",
       "    </tr>\n",
       "  </thead>\n",
       "  <tbody>\n",
       "    <tr>\n",
       "      <th>619</th>\n",
       "      <td>One ring - async</td>\n",
       "      <td>0.128201</td>\n",
       "    </tr>\n",
       "    <tr>\n",
       "      <th>376</th>\n",
       "      <td>Чемпионат Таджикистана</td>\n",
       "      <td>0.136663</td>\n",
       "    </tr>\n",
       "    <tr>\n",
       "      <th>633</th>\n",
       "      <td>ДР Земцовского</td>\n",
       "      <td>0.168761</td>\n",
       "    </tr>\n",
       "    <tr>\n",
       "      <th>69</th>\n",
       "      <td>Парный асинхронный турнир ChGK is...</td>\n",
       "      <td>0.209183</td>\n",
       "    </tr>\n",
       "    <tr>\n",
       "      <th>557</th>\n",
       "      <td>Открытый Студенческий чемпионат Краснодарского...</td>\n",
       "      <td>0.218041</td>\n",
       "    </tr>\n",
       "    <tr>\n",
       "      <th>140</th>\n",
       "      <td>Зимник</td>\n",
       "      <td>0.227262</td>\n",
       "    </tr>\n",
       "    <tr>\n",
       "      <th>174</th>\n",
       "      <td>Зимние игры</td>\n",
       "      <td>0.237733</td>\n",
       "    </tr>\n",
       "    <tr>\n",
       "      <th>286</th>\n",
       "      <td>Чемпионат Туркменистана</td>\n",
       "      <td>0.238974</td>\n",
       "    </tr>\n",
       "    <tr>\n",
       "      <th>630</th>\n",
       "      <td>Открытый кубок МВУТ</td>\n",
       "      <td>0.245495</td>\n",
       "    </tr>\n",
       "    <tr>\n",
       "      <th>321</th>\n",
       "      <td>Чемпионат Кыргызстана</td>\n",
       "      <td>0.247279</td>\n",
       "    </tr>\n",
       "    <tr>\n",
       "      <th>569</th>\n",
       "      <td>Открытый кубок УМЭД</td>\n",
       "      <td>0.265510</td>\n",
       "    </tr>\n",
       "    <tr>\n",
       "      <th>351</th>\n",
       "      <td>Пляжное ЧГК</td>\n",
       "      <td>0.265811</td>\n",
       "    </tr>\n",
       "    <tr>\n",
       "      <th>319</th>\n",
       "      <td>Открытый кубок Дальнего Востока (школьный зачёт)</td>\n",
       "      <td>0.268632</td>\n",
       "    </tr>\n",
       "    <tr>\n",
       "      <th>641</th>\n",
       "      <td>Открытый зимний чемпионат ТИУ</td>\n",
       "      <td>0.269275</td>\n",
       "    </tr>\n",
       "    <tr>\n",
       "      <th>85</th>\n",
       "      <td>Этажи</td>\n",
       "      <td>0.270850</td>\n",
       "    </tr>\n",
       "    <tr>\n",
       "      <th>234</th>\n",
       "      <td>Седьмая октава: Кубок Равноденствия. Лига Наци...</td>\n",
       "      <td>0.276360</td>\n",
       "    </tr>\n",
       "    <tr>\n",
       "      <th>567</th>\n",
       "      <td>Осенний кубок Барнаула</td>\n",
       "      <td>0.280187</td>\n",
       "    </tr>\n",
       "    <tr>\n",
       "      <th>646</th>\n",
       "      <td>Студенческий чемпионат Тюменской области</td>\n",
       "      <td>0.280801</td>\n",
       "    </tr>\n",
       "    <tr>\n",
       "      <th>546</th>\n",
       "      <td>Школьная лига. II тур.</td>\n",
       "      <td>0.282867</td>\n",
       "    </tr>\n",
       "    <tr>\n",
       "      <th>472</th>\n",
       "      <td>Лига вузов. I тур</td>\n",
       "      <td>0.283818</td>\n",
       "    </tr>\n",
       "  </tbody>\n",
       "</table>\n",
       "</div>"
      ],
      "text/plain": [
       "                                       tournament_name  rating_new\n",
       "619                                   One ring - async    0.128201\n",
       "376                             Чемпионат Таджикистана    0.136663\n",
       "633                                     ДР Земцовского    0.168761\n",
       "69                Парный асинхронный турнир ChGK is...    0.209183\n",
       "557  Открытый Студенческий чемпионат Краснодарского...    0.218041\n",
       "140                                             Зимник    0.227262\n",
       "174                                        Зимние игры    0.237733\n",
       "286                            Чемпионат Туркменистана    0.238974\n",
       "630                                Открытый кубок МВУТ    0.245495\n",
       "321                              Чемпионат Кыргызстана    0.247279\n",
       "569                                Открытый кубок УМЭД    0.265510\n",
       "351                                        Пляжное ЧГК    0.265811\n",
       "319   Открытый кубок Дальнего Востока (школьный зачёт)    0.268632\n",
       "641                      Открытый зимний чемпионат ТИУ    0.269275\n",
       "85                                               Этажи    0.270850\n",
       "234  Седьмая октава: Кубок Равноденствия. Лига Наци...    0.276360\n",
       "567                             Осенний кубок Барнаула    0.280187\n",
       "646           Студенческий чемпионат Тюменской области    0.280801\n",
       "546                             Школьная лига. II тур.    0.282867\n",
       "472                                  Лига вузов. I тур    0.283818"
      ]
     },
     "execution_count": 24,
     "metadata": {},
     "output_type": "execute_result"
    }
   ],
   "source": [
    "temp_data_train.sort_values('rating_new', ascending=True)[['tournament_name', 'rating_new']].head(20)"
   ]
  },
  {
   "cell_type": "markdown",
   "metadata": {},
   "source": [
    "Результаты рейтингования логичны: на чемпионате мира уровень сложности вопросов выше, чем на школьных турнирах"
   ]
  }
 ],
 "metadata": {
  "kernelspec": {
   "display_name": "Python 3",
   "language": "python",
   "name": "python3"
  },
  "language_info": {
   "codemirror_mode": {
    "name": "ipython",
    "version": 3
   },
   "file_extension": ".py",
   "mimetype": "text/x-python",
   "name": "python",
   "nbconvert_exporter": "python",
   "pygments_lexer": "ipython3",
   "version": "3.8.3"
  }
 },
 "nbformat": 4,
 "nbformat_minor": 4
}
